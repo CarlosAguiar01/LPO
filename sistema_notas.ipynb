{
  "nbformat": 4,
  "nbformat_minor": 0,
  "metadata": {
    "colab": {
      "name": "sistema_notas.ipynb",
      "provenance": [],
      "authorship_tag": "ABX9TyMkVpmNqEL5fD2j/NOsmqYE",
      "include_colab_link": true
    },
    "kernelspec": {
      "name": "python3",
      "display_name": "Python 3"
    },
    "language_info": {
      "name": "python"
    }
  },
  "cells": [
    {
      "cell_type": "markdown",
      "metadata": {
        "id": "view-in-github",
        "colab_type": "text"
      },
      "source": [
        "<a href=\"https://colab.research.google.com/github/CarlosAguiar01/LPO/blob/main/sistema_notas.ipynb\" target=\"_parent\"><img src=\"https://colab.research.google.com/assets/colab-badge.svg\" alt=\"Open In Colab\"/></a>"
      ]
    },
    {
      "cell_type": "code",
      "execution_count": null,
      "metadata": {
        "id": "AYnwHFghZxMy"
      },
      "outputs": [],
      "source": [
        "consola . log ( 'Primeiro código de notas' )\n",
        "var  nota1  =  8\n",
        "var  nota2  =  6\n",
        "var  nota3  =  5\n",
        "var  media  =  ( nota1 + nota2 + nota3 ) / 3\n",
        "var  resultado  =  ( media  >= 7 ) ? \"aprovado\" : \"reprovado\" ;\n",
        "consola . log ( resultado )\n",
        "\n",
        "\n",
        "consola . log ( 'Segundo código de notas' )\n",
        "var  nota1  =  6\n",
        "var  nota2  =  8\n",
        "var  media  =  7-((nota1 + nota2)/2)\n",
        "consola . log ( 'nota necessária' + Math . ceil ( resultado ) + 'na proxima avaliação' )\n"
      ]
    },
    {
      "cell_type": "markdown",
      "source": [
        "Crie dois códigos de sistema de notas para uma escola. O primeiro código deve ser um programa que\n",
        "informa se o aluno reprovou, ou não, com base nas três notas que ele  adicionou ao programa.\n",
        "Utilize, no mínimo, um operador de atribuição e um operador ternário.\n",
        "\n",
        "O segundo código é um programa que o aluno deve escrever duas notas e o retorno informa a nota\n",
        "mínima que ele deve tirar na próxima prova para poder passar com nota sete."
      ],
      "metadata": {
        "id": "p--3OS5t2-cR"
      }
    }
  ]
}