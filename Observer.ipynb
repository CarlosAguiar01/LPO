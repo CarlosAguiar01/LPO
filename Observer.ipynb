{
  "nbformat": 4,
  "nbformat_minor": 0,
  "metadata": {
    "colab": {
      "provenance": [],
      "authorship_tag": "ABX9TyPICT+pIcOlsP9vJbBi5Vh/",
      "include_colab_link": true
    },
    "kernelspec": {
      "name": "python3",
      "display_name": "Python 3"
    },
    "language_info": {
      "name": "python"
    }
  },
  "cells": [
    {
      "cell_type": "markdown",
      "metadata": {
        "id": "view-in-github",
        "colab_type": "text"
      },
      "source": [
        "<a href=\"https://colab.research.google.com/github/CarlosAguiar01/LPO/blob/main/Observer.ipynb\" target=\"_parent\"><img src=\"https://colab.research.google.com/assets/colab-badge.svg\" alt=\"Open In Colab\"/></a>"
      ]
    },
    {
      "cell_type": "code",
      "execution_count": null,
      "metadata": {
        "id": "eI3CLQk5XSKL"
      },
      "outputs": [],
      "source": [
        "class  observavel  {\n",
        "    editor de texto ( insertline ,  texto ) {\n",
        "        insertline ( )  =  linenumber  &  text\n",
        "        linenumber  =  'texto adicionado com sucesso'\n",
        "    }\n",
        "    removerlinha ( linenumber )  {\n",
        "         texto retornavel -  lineNumber\n",
        "    }\n",
        "    editor de texto aberto ( )\n",
        "    saveTextEditor ( )\n",
        "}"
      ]
    },
    {
      "cell_type": "markdown",
      "source": [
        "Aplique o padrão de projeto Observer para criar um simples editor de texto. Considere a solução apresentada no Hipertexto 6 e utilize o código visto para implementar novas classes. Os requisitos para avaliar o projeto são:\n",
        "\n",
        "- implementar uma subclasse da classe Editor chamada TextEditor;\n",
        "- aplicar o método insertLine, que recebe os parâmetros lineNumber e text;\n",
        "- inserir o texto na ordem correspondente a lineNumber e deslocar as linhas posteriores se necessário;\n",
        "- aplicar o método removeLine, que recebe lineNumber como parâmetro, deleta o texto da linha correspondente e desloca as linhas posteriores se necessário;\n",
        "- instanciar um TextEditor e disparar o evento “open”;\n",
        "- receber as linhas de texto, que serão inseridas no objeto textEditor, do usuário até que ele envie o texto “EOF”, que não deve ser inserido no objeto textEditor;\n",
        "- por fim, o textEditor deve disparar o evento “save” para que o conteúdo seja salvo no arquivo configurado e imprimir todo o conteúdo do arquivo na tela."
      ],
      "metadata": {
        "id": "ZDdYiWLydqks"
      }
    }
  ]
}