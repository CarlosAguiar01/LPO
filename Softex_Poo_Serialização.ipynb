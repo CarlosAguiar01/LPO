{
  "nbformat": 4,
  "nbformat_minor": 0,
  "metadata": {
    "colab": {
      "name": "Softex_Poo_Serialização.ipynb",
      "provenance": [],
      "authorship_tag": "ABX9TyPrrcI3pvJJJvhskRQnw879",
      "include_colab_link": true
    },
    "kernelspec": {
      "name": "python3",
      "display_name": "Python 3"
    },
    "language_info": {
      "name": "python"
    }
  },
  "cells": [
    {
      "cell_type": "markdown",
      "metadata": {
        "id": "view-in-github",
        "colab_type": "text"
      },
      "source": [
        "<a href=\"https://colab.research.google.com/github/CarlosAguiar01/LPO/blob/main/Softex_Poo_Serializa%C3%A7%C3%A3o.ipynb\" target=\"_parent\"><img src=\"https://colab.research.google.com/assets/colab-badge.svg\" alt=\"Open In Colab\"/></a>"
      ]
    },
    {
      "cell_type": "code",
      "execution_count": null,
      "metadata": {
        "id": "3nPejZKW2WSQ"
      },
      "outputs": [],
      "source": [
        "import java.io.FileInputStream;\n",
        "import java.io.FileOutputStream;\n",
        "import java.io.ObjectInputStream;\n",
        "import java.io.ObjectOutputStream;\n",
        "import java.io.Serializable;\n",
        "\n",
        "Classe Pública NotBook {\n",
        "\n",
        "      FileOutputStream  = new FileOutputStream(\"book.xls\");\n",
        "      objectOutputStream  = new objectOutputStream(\"book.xls\");\n",
        "      book.writeObject(\"book.xls\");\n",
        "      book.close();\n",
        "  }\n",
        "Classe Pública ReadObject{\n",
        "  FileInputStream \"book.xls\" = new FileInputStream(\"c:\\book.xls\");\n",
        "  ObjectInputStream \"book.xls\" = new ObjectinputStream(\"book.xls\");\n",
        "  book = (\"book.xls\") \"book.xls\".readObject();\n",
        "  book.fechar();\n",
        "  }\n",
        "}"
      ]
    },
    {
      "cell_type": "markdown",
      "source": [
        "Crie um exemplo de como funcionam a serialização e a desserialização de um sistema qualquer.\n",
        "Utilize as classes, os objetos e métodos padrões da Java e insira um endereço físico fictício."
      ],
      "metadata": {
        "id": "VrvbcKNh6NOY"
      }
    }
  ]
}