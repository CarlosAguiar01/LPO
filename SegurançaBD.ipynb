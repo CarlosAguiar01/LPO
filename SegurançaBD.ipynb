{
  "nbformat": 4,
  "nbformat_minor": 0,
  "metadata": {
    "colab": {
      "provenance": [],
      "authorship_tag": "ABX9TyMP+uG/eBtaYi66ofZjdvmR",
      "include_colab_link": true
    },
    "kernelspec": {
      "name": "python3",
      "display_name": "Python 3"
    },
    "language_info": {
      "name": "python"
    }
  },
  "cells": [
    {
      "cell_type": "markdown",
      "metadata": {
        "id": "view-in-github",
        "colab_type": "text"
      },
      "source": [
        "<a href=\"https://colab.research.google.com/github/CarlosAguiar01/LPO/blob/main/Seguran%C3%A7aBD.ipynb\" target=\"_parent\"><img src=\"https://colab.research.google.com/assets/colab-badge.svg\" alt=\"Open In Colab\"/></a>"
      ]
    },
    {
      "cell_type": "code",
      "execution_count": null,
      "metadata": {
        "id": "HWiB_SokSI_X"
      },
      "outputs": [],
      "source": []
    },
    {
      "cell_type": "markdown",
      "source": [
        "Uma empresa está sofrendo ataques que impactam diretamente a sua segurança. Então, ela precisa\n",
        "atualizar como senhas de todos os seus funcionários. Cite pelo menos três métodos para melhorar\n",
        "essas senhas.\n",
        "\n",
        "\n",
        "\n",
        "Primeiro Método:\n",
        "Palavras do nosso dia-a-dia, são facilmente descobertas por softwares espiões.\n",
        "\n",
        "Segundo Método:\n",
        "Não se deve usar palavras e/ou números associados ao usúario.\n",
        "\n",
        "Terceiro Método:\n",
        "Fazer alteração de senhas em intervalos de 90 dias."
      ],
      "metadata": {
        "id": "li0PLj7QSKEb"
      }
    }
  ]
}