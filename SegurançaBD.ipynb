{
  "nbformat": 4,
  "nbformat_minor": 0,
  "metadata": {
    "colab": {
      "provenance": [],
      "authorship_tag": "ABX9TyN2N6gW1D6zx/EN3SIrmTaB",
      "include_colab_link": true
    },
    "kernelspec": {
      "name": "python3",
      "display_name": "Python 3"
    },
    "language_info": {
      "name": "python"
    }
  },
  "cells": [
    {
      "cell_type": "markdown",
      "metadata": {
        "id": "view-in-github",
        "colab_type": "text"
      },
      "source": [
        "<a href=\"https://colab.research.google.com/github/CarlosAguiar01/LPO/blob/main/Seguran%C3%A7aBD.ipynb\" target=\"_parent\"><img src=\"https://colab.research.google.com/assets/colab-badge.svg\" alt=\"Open In Colab\"/></a>"
      ]
    },
    {
      "cell_type": "code",
      "execution_count": null,
      "metadata": {
        "id": "CBpnm_f0wNFB"
      },
      "outputs": [],
      "source": []
    },
    {
      "cell_type": "markdown",
      "source": [
        "Após uma varredura rápida no sistema da sua empresa, foi identificada a necessidade de melhorar a segurança dos dados. \n",
        "Por isso, você deve desenvolver um novo banco de dados. \n",
        "Explique quais são os pilares da segurança de dados que devem ser seguidos.\n",
        "\n",
        "Integridade:\n",
        "\n",
        "A integridade é a garantia de que os dados alterados no sistema serão retidos em sua forma original.\n",
        "Esse componente está intrinsecamente relacionado ao controle das modificações do sistema e à preservação total do ciclo de vida dos dados, \n",
        "que se baseia na origem, manutenção e destruição.\n",
        "\n",
        "Disponibilidade:\n",
        "\n",
        "A disponibilidade garante que os dados estejam sempre disponíveis para fins legais.\n",
        "Portanto, apenas os indivíduos que foram devidamente aprovados terão acesso ao sistema em qualquer momento.\n",
        "\n",
        "Confiabilidade:\n",
        "\n",
        "A confiabilidade exige a imposição de restrições sobre quem tem acesso aos dados em questão.\n",
        "Então, apenas indivíduos confiáveis com uma necessidade legítima de alterar os dados, terão acesso a eles se necessário."
      ],
      "metadata": {
        "id": "m-WHF5rawNma"
      }
    }
  ]
}