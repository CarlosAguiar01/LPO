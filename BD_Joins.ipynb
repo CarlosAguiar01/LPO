{
  "nbformat": 4,
  "nbformat_minor": 0,
  "metadata": {
    "colab": {
      "provenance": [],
      "authorship_tag": "ABX9TyNbH94CYIXSJPV3NpTmt41u",
      "include_colab_link": true
    },
    "kernelspec": {
      "name": "python3",
      "display_name": "Python 3"
    },
    "language_info": {
      "name": "python"
    }
  },
  "cells": [
    {
      "cell_type": "markdown",
      "metadata": {
        "id": "view-in-github",
        "colab_type": "text"
      },
      "source": [
        "<a href=\"https://colab.research.google.com/github/CarlosAguiar01/LPO/blob/main/BD_Joins.ipynb\" target=\"_parent\"><img src=\"https://colab.research.google.com/assets/colab-badge.svg\" alt=\"Open In Colab\"/></a>"
      ]
    },
    {
      "cell_type": "code",
      "execution_count": null,
      "metadata": {
        "id": "PYsTNLBBSYF6"
      },
      "outputs": [],
      "source": [
        "#Criação de Tabelas:\n",
        "\n",
        "CREATE TABLE \"carro\" (\n",
        "\t\"id_carro\"\tINTEGER NOT NULL,\n",
        "\t\"id_modelo\"\tINTEGER,\n",
        "\tPRIMARY KEY(\"id_carro\" AUTOINCREMENT),\n",
        "\tFOREIGN KEY(\"id_modelo\") REFERENCES \"modelo\"(\"id_modelo\")\n",
        ");\n",
        "\n",
        "CREATE TABLE \"modelo\" (\n",
        "\t\"id_modelo\"\tINTEGER NOT NULL,\n",
        "\t\"modelo\"\tTEXT,\n",
        "\t\"cor\"\tINTEGER,\n",
        "\tPRIMARY KEY(\"id_modelo\" AUTOINCREMENT)\n",
        ");\n",
        "\n",
        "#Aplicação Join\n",
        "\n",
        "\"\"\"O CROSS JOIN executa uma operação mais complexa, em que todos os itens de uma tabela estarão associados a cada item da outra.\n",
        "\n",
        "\n",
        "FROM aluno AS al\n",
        "\n",
        "CROSS JOIN  disciplina AS disc\n",
        "\n",
        "ON al.produto = disc.produto\n",
        "\n",
        "\"\"\"Já o LEFT JOIN é um pouco mais complexo. Resulta em uma tabela que exibe somente os itens da tabela da esquerda,\n",
        "incluindo os itens em interseção com a tabela direita. Contudo, exclui da relação o resto da tabela da direita.\"\"\"\n",
        "\n",
        "FROM aluno AS al\n",
        "\n",
        "LEFT JOIN disciplina AS disc\n",
        "\n",
        "ON al.produto = disc.produto\n",
        "\n",
        "\"\"\"O FULL JOIN é o comando para pegar todos os valores das duas tabelas e unir em uma única resultante.\n",
        "É representado pelo \"A U B\" da imagem principal. \"\"\"\n",
        "\n",
        "FROM aluno AS al\n",
        "\n",
        "FULL OUTER JOIN disciplina AS disc\n",
        "\n",
        "ON al.produto = disc.produto\n",
        "\n",
        "\"\"\"O RIGHT JOIN segue a mesma lógica do LEFT, só que para a outra tabela.\n",
        "Pega os dados completos da tabela da direita, incluindo os que também estão na tabela da direita.\"\"\"\n",
        "\n",
        "FROM aluno AS al\n",
        "\n",
        "RIGHT JOIN disciplina AS disc\n",
        "\n",
        "ON al.produto = disc.produto\n",
        "\n",
        "\"\"\"O INNER JOIN traz uma ideia muito intuitiva: a de buscar a intersecção entre as tabelas (\"A n B\" da imagem principal acima).\n",
        "Ou seja, resulta em uma tabela que traz os valores que estão em ambas as tabelas iniciais.\"\"\"\n",
        "\n",
        "FROM aluno AS al\n",
        "\n",
        "INNER JOIN disciplina AS disc\n",
        "\n",
        "ON al.produto = disc.produto\n"
      ]
    },
    {
      "cell_type": "markdown",
      "source": [
        "Desenvolva um banco de dados que relacione tabelas através de chaves estrangeiras ou nomes de colunas iguais. Após isso, realize todos os comandos Joins estudados."
      ],
      "metadata": {
        "id": "e3SEsiS62dqQ"
      }
    }
  ]
}