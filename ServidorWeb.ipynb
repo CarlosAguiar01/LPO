{
  "nbformat": 4,
  "nbformat_minor": 0,
  "metadata": {
    "colab": {
      "provenance": [],
      "authorship_tag": "ABX9TyNbBd/BC9M058092m+CKSmd",
      "include_colab_link": true
    },
    "kernelspec": {
      "name": "python3",
      "display_name": "Python 3"
    },
    "language_info": {
      "name": "python"
    }
  },
  "cells": [
    {
      "cell_type": "markdown",
      "metadata": {
        "id": "view-in-github",
        "colab_type": "text"
      },
      "source": [
        "<a href=\"https://colab.research.google.com/github/CarlosAguiar01/LPO/blob/main/ServidorWeb.ipynb\" target=\"_parent\"><img src=\"https://colab.research.google.com/assets/colab-badge.svg\" alt=\"Open In Colab\"/></a>"
      ]
    },
    {
      "cell_type": "code",
      "execution_count": null,
      "metadata": {
        "id": "q9LdFoFtFDch"
      },
      "outputs": [],
      "source": [
        "const express = require('express')\n",
        "const bodyParser = require('body-parser')\n",
        "const cors = require('cors')\n",
        "\n",
        "const app = express()\n",
        "\n",
        "app.use(cors())\n",
        "app.use(bodyParser.urlencoded({extended:false}))\n",
        "app.use(bodyParser.json())\n",
        "\n",
        "app.get('/', (req, res) => {\n",
        "    res.status(200).send('<h2>Page</h2>')\n",
        "})\n",
        "\n",
        "\n",
        "app.get('/404', (req, res) => {\n",
        "    res.status(404).send('<h1>pege not found!</h1>')\n",
        "})\n",
        "\n",
        "app.listen(8080, () => {\n",
        "    console.log('Servidor rondando na porta 8080!')\n",
        "})"
      ]
    },
    {
      "cell_type": "markdown",
      "source": [
        "Faça um servidor web para responder requisições com diferentes status HTTP, os quais devem estar\n",
        "de acordo com os parâmetros enviados pelo placeholder nas requisições. Exemplo: a rota “/listar/50”\n",
        " vai retornar o HTTP 404; a rota /listar/10 vai retornar o HTTP 200 com alguma string."
      ],
      "metadata": {
        "id": "ojY17TTZFO6n"
      }
    }
  ]
}