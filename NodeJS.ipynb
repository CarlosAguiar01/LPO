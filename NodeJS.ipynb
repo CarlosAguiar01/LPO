{
  "nbformat": 4,
  "nbformat_minor": 0,
  "metadata": {
    "colab": {
      "provenance": [],
      "authorship_tag": "ABX9TyMwFnD8pBA9y4E9xaoBruGf",
      "include_colab_link": true
    },
    "kernelspec": {
      "name": "python3",
      "display_name": "Python 3"
    },
    "language_info": {
      "name": "python"
    }
  },
  "cells": [
    {
      "cell_type": "markdown",
      "metadata": {
        "id": "view-in-github",
        "colab_type": "text"
      },
      "source": [
        "<a href=\"https://colab.research.google.com/github/CarlosAguiar01/LPO/blob/main/NodeJS.ipynb\" target=\"_parent\"><img src=\"https://colab.research.google.com/assets/colab-badge.svg\" alt=\"Open In Colab\"/></a>"
      ]
    },
    {
      "cell_type": "code",
      "execution_count": null,
      "metadata": {
        "id": "yCg4TnV9z1Cr"
      },
      "outputs": [],
      "source": [
        "consola . log ( 'Primeiro código de notas' )\n",
        "var  nota1  =  8\n",
        "var  nota2  =  6\n",
        "var  nota3  =  5\n",
        "var  media  =  ( nota1 + nota2 + nota3 ) / 3\n",
        "var  resultado  =  ( media  >= 7 ) ? \"aprovado\" : \"reprovado\" ;\n",
        "consola . log ( resultado )"
      ]
    },
    {
      "cell_type": "markdown",
      "source": [
        "Escolha algum código executável em JavaScript feito em atividades passadas e o coloque no Node.js. Para isso, você deve ter o Node.js instalado. Após fazer essa migração, coloque seu código no arquivo \"index.js\", teste e tire um print."
      ],
      "metadata": {
        "id": "g8ymKn5Ez491"
      }
    }
  ]
}