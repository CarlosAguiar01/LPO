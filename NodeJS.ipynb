{
  "nbformat": 4,
  "nbformat_minor": 0,
  "metadata": {
    "colab": {
      "provenance": [],
      "authorship_tag": "ABX9TyNI1XpXASseL4i9NWPhcqqx",
      "include_colab_link": true
    },
    "kernelspec": {
      "name": "python3",
      "display_name": "Python 3"
    },
    "language_info": {
      "name": "python"
    }
  },
  "cells": [
    {
      "cell_type": "markdown",
      "metadata": {
        "id": "view-in-github",
        "colab_type": "text"
      },
      "source": [
        "<a href=\"https://colab.research.google.com/github/CarlosAguiar01/LPO/blob/main/NodeJS.ipynb\" target=\"_parent\"><img src=\"https://colab.research.google.com/assets/colab-badge.svg\" alt=\"Open In Colab\"/></a>"
      ]
    },
    {
      "cell_type": "code",
      "execution_count": null,
      "metadata": {
        "id": "MxbCR-vOmERm"
      },
      "outputs": [],
      "source": []
    },
    {
      "cell_type": "markdown",
      "source": [
        "Com base nos vídeos 1 e 2, explique como a web funciona a partir do ponto de vista do protocolo\n",
        " cliente servidor.\n",
        "Crie o começo de um projeto em node.js, usando o npm e informe os comandos utilizados.\n",
        "\n",
        "\n",
        "1) - A web é composta de dois tipos de computadores: os clientes e seus computadores pessoais, e os\n",
        "servidores,  onde as respostas as requisições são hospedadas. Para acessar um site o cliente faz uma\n",
        "requisição HTTP ao servidor através do protocolo TCP/IP e em resposta o servidor envia o resultado da\n",
        "busca, que são processados pelo navegador.\n",
        "  \n",
        "2)- npm init - Este comando cria o arquivo package.json, onde fica toda a configuração projeto.\n",
        "\n",
        "Depois do npm init, o npm vai perguntar algumas informações básicas para montar o package.json.\n",
        "São elas:\n",
        "\n",
        "Nome do Pacote: Nome do projeto.\n",
        "Versão: Versão do projeto.\n",
        "Descrição: Uma descrição para o projeto.\n",
        "Ponto de Entrada: Arquivo padrão que será usado para executar a aplicação.\n",
        "Comando de Teste: Comando para executar os testes da aplicação.\n",
        "Repositório Git: URL do repositório git onde o código-fonte da aplicação será armazenado.\n",
        "Palavra-Chave: Palavras-chave relevantes para ajudar as pessoas a encontrarem o seu projeto.\n",
        "Autor: Autor do projeto.\n",
        "License Tipo de licença do projeto.\n",
        "\n",
        "Depois de informar todos esses dados o programa apresenta no console o conteúdo do arquivo package.json\n",
        "que será criado com as informações que passadas.\n",
        "\n",
        "Feito isso o arquivo package.json será criado na pasta raíz do seu projeto.\n",
        "Agora nós precisamos criar o primeiro arquivo Javascript da nossa aplicação, que é justamente o\n",
        "arquivo que você configurou no seu package.json. Se você escolheu o padrão, o arquivo é o index.js.\n",
        "Após criar o seu arquivo index.js, você está pronto para escrever comandos javascript para executar\n",
        " com o Node, por exemplo, vamos exibir na tela do console o clássico Alô mundo!.\n",
        "Para isso basta escrever console.log('Alô mundo!'); no seu arquivo index.js."
      ],
      "metadata": {
        "id": "cAgnn_DOsURE"
      }
    }
  ]
}