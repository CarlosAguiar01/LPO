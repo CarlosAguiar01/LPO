{
  "nbformat": 4,
  "nbformat_minor": 0,
  "metadata": {
    "colab": {
      "provenance": [],
      "authorship_tag": "ABX9TyNkY3L6WIaRIcvbnISAnqJP",
      "include_colab_link": true
    },
    "kernelspec": {
      "name": "python3",
      "display_name": "Python 3"
    },
    "language_info": {
      "name": "python"
    }
  },
  "cells": [
    {
      "cell_type": "markdown",
      "metadata": {
        "id": "view-in-github",
        "colab_type": "text"
      },
      "source": [
        "<a href=\"https://colab.research.google.com/github/CarlosAguiar01/LPO/blob/main/Servidor_Soap.ipynb\" target=\"_parent\"><img src=\"https://colab.research.google.com/assets/colab-badge.svg\" alt=\"Open In Colab\"/></a>"
      ]
    },
    {
      "cell_type": "code",
      "execution_count": null,
      "metadata": {
        "id": "2zfuXz3mI6d6"
      },
      "outputs": [],
      "source": [
        "importar  javax . jws . WebService ;\n",
        "importar  javax . jws . WebMethod ;\n",
        "importar  javax . jws . sabão . SOAPBinding ;\n",
        "importar  javax . jws . sabão . SOAPBinding . Estilo ;\n",
        "\n",
        "@ ServiçoWeb\n",
        "@ SOAPBinding ( estilo = Estilo . RPC )\n",
        "public  interface  CalculadoraServidor {\n",
        "  @ WebMethod  float  soma ( float  num1 , float  num2 );\n",
        "  @ WebMethod  float  subtracao ( float  num1 , float  num2 );\n",
        "  @ WebMethod  float  multiplicacao ( float  num1 , float  num2 );\n",
        "  @ WebMethod  float  divisão ( float  num1 , float  num2 );\n",
        "}\n",
        "\n",
        "importar  java . . _ Data ;\n",
        "importar  javax . jws . WebService ;\n",
        "\n",
        "@WebService ( endpointInterface = \" calc.CalculadoraServer \" )\n",
        "public  class  CalculadoraServerImpl  implementa  CalculadoraServer {\n",
        "\n",
        "  public  float  soma ( float  num1 , float  num2 ) {\n",
        "    retornar  num1 + num2 ;\n",
        "  }\n",
        "\n",
        "  public  float  subtração ( float  num1 , float  num2 ) {\n",
        "    retornar  num1 - num2 ;\n",
        "  }\n",
        "\n",
        "  public  float  multiplicação ( float  num1 , float  num2 ) {\n",
        "    retorna  num1 * num2 ;\n",
        "  }\n",
        "\n",
        "  public  float  divisão ( float  num1 , float  num2 ) {\n",
        "    retornar  num1 / num2 ;\n",
        "  }\n",
        "\n",
        "}\n",
        "\n",
        "importar  javax . xml . ws . ponto final ;\n",
        "\n",
        "public  class  CalculadoraServerPublisher {\n",
        "\n",
        "  public  static  void  main ( String [] args )\n",
        "  {\n",
        "    Ponto final . publicar ( \"http://127.0.0.1:9876/calc\" ,\n",
        "    new  CalculadoraServerImpl ());\n",
        "  }\n",
        "}\n",
        "\n",
        "importar  javax . xml . namespace . QNome ;\n",
        "importar  javax . xml . ws . Serviço ;\n",
        "importar  java . rede . URL ;\n",
        "\n",
        "class  CalculadoraCliente {\n",
        "\n",
        "  public  static  void  main ( String  args []) lança  exceção {\n",
        "    URL  url = nova  URL ( \"http://127.0.0.1:9876/calc?wsdl\" );\n",
        "    QName  qname = new  QName ( \"http://calc/\" , \"CalculadoraServerImplService\" );\n",
        "    Serviço  ws = Serviço . criar ( url , qname );\n",
        "    CalculadoraServer  calc = ws . getPort ( CalculadoraServer.class ) ; _\n",
        "\n",
        "    Sistema . fora . println ( \"Soma (5+1): \" + calc . soma ( 5,1 ) ) ;\n",
        "    Sistema . fora . println ( \"Subtração (5-1): \" + calc . subtração ( 5 , 1 ));\n",
        "    Sistema . fora . println ( \"Multiplicacao (5*1): \" + calc . multiplicacao ( 5 , 1 ));\n",
        "    Sistema . fora . println ( \"Divisão (5/1): \" + calc . divisão ( 5 , 1 ));\n",
        "\n",
        "  }\n",
        "}"
      ]
    },
    {
      "cell_type": "markdown",
      "source": [],
      "metadata": {
        "id": "ILrGq-TVJAzn"
      }
    },
    {
      "cell_type": "markdown",
      "source": [
        "Crie um servidor SOAP simples usando Java, disponibilize endpoints (métodos) e crie, no mínimo, quatro deles. Por fim, coloque para rodar na porta 8080.\n"
      ],
      "metadata": {
        "id": "ksJh710aJBaS"
      }
    }
  ]
}