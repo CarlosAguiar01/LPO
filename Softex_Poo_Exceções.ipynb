{
  "nbformat": 4,
  "nbformat_minor": 0,
  "metadata": {
    "colab": {
      "name": "Softex_Poo_Exceções.ipynb",
      "provenance": [],
      "authorship_tag": "ABX9TyOxh76is5p9dabpKXjxtcOh",
      "include_colab_link": true
    },
    "kernelspec": {
      "name": "python3",
      "display_name": "Python 3"
    },
    "language_info": {
      "name": "python"
    }
  },
  "cells": [
    {
      "cell_type": "markdown",
      "metadata": {
        "id": "view-in-github",
        "colab_type": "text"
      },
      "source": [
        "<a href=\"https://colab.research.google.com/github/CarlosAguiar01/LPO/blob/main/Softex_Poo_Exce%C3%A7%C3%B5es.ipynb\" target=\"_parent\"><img src=\"https://colab.research.google.com/assets/colab-badge.svg\" alt=\"Open In Colab\"/></a>"
      ]
    },
    {
      "cell_type": "code",
      "execution_count": null,
      "metadata": {
        "id": "qamsGh1841Eq"
      },
      "outputs": [],
      "source": [
        "classe pública nascimento {\n",
        "  public static void main(String[] args) {\n",
        "    Scanner scan = new Scanner(System.in);\n",
        "    int nascimento = 0;\n",
        "    tentar{\n",
        "      System.out.println(\"qual ano de nascimento?\");\n",
        "      nascimento = scan.nextInt();\n",
        "      System.out.println(\"O ano do seu nascimento é: \" + ano);\n",
        "        }\n",
        "    catch(ArithmeticException e) {\n",
        "      System.out.println(\"Ano nascimento inválido!\");\n",
        "    }\n",
        "  }\n",
        "}"
      ]
    },
    {
      "cell_type": "markdown",
      "source": [
        "Crie uma situação em que ocorra uma exceção dentro de um código.\n",
        " Utilize try/catch para realizar a captura e tratamento dessa exceção."
      ],
      "metadata": {
        "id": "YC-2r-3S6sO3"
      }
    }
  ]
}