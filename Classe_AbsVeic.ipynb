{
  "nbformat": 4,
  "nbformat_minor": 0,
  "metadata": {
    "colab": {
      "provenance": [],
      "authorship_tag": "ABX9TyPvPwZoYm1ob/qawB4WmAD6",
      "include_colab_link": true
    },
    "kernelspec": {
      "name": "python3",
      "display_name": "Python 3"
    },
    "language_info": {
      "name": "python"
    }
  },
  "cells": [
    {
      "cell_type": "markdown",
      "metadata": {
        "id": "view-in-github",
        "colab_type": "text"
      },
      "source": [
        "<a href=\"https://colab.research.google.com/github/CarlosAguiar01/LPO/blob/main/Classe_AbsVeic.ipynb\" target=\"_parent\"><img src=\"https://colab.research.google.com/assets/colab-badge.svg\" alt=\"Open In Colab\"/></a>"
      ]
    },
    {
      "cell_type": "code",
      "execution_count": null,
      "metadata": {
        "id": "ViHrrWFROX6s"
      },
      "outputs": [],
      "source": [
        "class  Veículo  {\n",
        "    construtor ( modelo, marca, cor, numerorodas ) {\n",
        "        this . modelo  =  modelo ;\n",
        "        this . marca  =  marca ;\n",
        "        this . cor  =  cor ;\n",
        "        this . numerorodas  =  numerorodas ;\n",
        "    }\n",
        "}\n",
        "\n",
        "class cambio dual-logic extende veiculo  {\n",
        "    construtor ( modelo, marca, cor, numerorodas ) {\n",
        "        super ( modelo, marca, cor, numerorodas ) ;\n",
        "    }\n",
        "    cambio ( ) {\n",
        "        this . cambio  =  \"cambio dual-logig\"\n",
        "        return this . cambio\n",
        "    }\n",
        "}\n",
        "class  dual-logic  extende o  veiculo  {\n",
        "    construtor ( modelo, marca, cor, numerorodas ) {\n",
        "        super ( modelo, marca, cor, numeroRodas ) ;\n",
        "    }\n",
        "    cambio ( ) {\n",
        "        this . cambio  =  \"dual-logic\"\n",
        "        return  this . cambio\n",
        "    }\n",
        "}\n",
        "const  aplicacao1  =  new  manual ('corolla' , 'toyota' , 'preto' , 4 )\n",
        "aplicacao1 . cambio ( )\n",
        "const  aplicacao2  =  new  automático ('logan' , 'renalt' , 'prata' , 4 )\n",
        "aplicacao2 . cambio ( )\n",
        "\n",
        "console . log ( aplicacao1 ,  aplicacao2 )\n"
      ]
    },
    {
      "cell_type": "markdown",
      "source": [
        "- implemente uma classe abstrata Veículo com um construtor padrão e os métodos clone e represente ;\n",
        "- o construtor da classe Veículo deve receber modelo , marca , cor e numeroRodas como parâmetros;\n",
        "- chore pelo menos duas subclasses da classe Veículo , que acrescentem um ou mais atributos, por exemplo: carro que tem dois campos a mais, como numeroRodas e numeroPortas ;\n",
        "- desenvolver uma classe de aplicação que deve criar um array com seis veículos com dois tipos de diferentes (subclasses), usando o método clone dos objetos para completar o array ;\n",
        "- na classe Aplicação , implementa um método que rentabiliza um array com o mesmo tamanho do array de veículos, onde cada elemento deve ser um clone dos elementos do array de veículos;\n",
        "- no final, deve imprimir na tela o retorno da função representar cada elemento desse novo array de clones de veículos."
      ],
      "metadata": {
        "id": "hXT-rDLlbKlQ"
      }
    }
  ]
}