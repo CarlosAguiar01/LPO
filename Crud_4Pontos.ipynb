{
  "nbformat": 4,
  "nbformat_minor": 0,
  "metadata": {
    "colab": {
      "provenance": [],
      "authorship_tag": "ABX9TyPxTlRtxbKvvxRmeltuGoWd",
      "include_colab_link": true
    },
    "kernelspec": {
      "name": "python3",
      "display_name": "Python 3"
    },
    "language_info": {
      "name": "python"
    }
  },
  "cells": [
    {
      "cell_type": "markdown",
      "metadata": {
        "id": "view-in-github",
        "colab_type": "text"
      },
      "source": [
        "<a href=\"https://colab.research.google.com/github/CarlosAguiar01/LPO/blob/main/Crud_4Pontos.ipynb\" target=\"_parent\"><img src=\"https://colab.research.google.com/assets/colab-badge.svg\" alt=\"Open In Colab\"/></a>"
      ]
    },
    {
      "cell_type": "code",
      "execution_count": null,
      "metadata": {
        "id": "9OQWk_wMIMLT"
      },
      "outputs": [],
      "source": [
        "const  expresso  =  requer ( 'expresso' )\n",
        " repositório  const =   requer ( './repositório' )\n",
        "const  bodyParser  =  requer ( 'body-parser' )\n",
        " aplicativo  const =  expresso ( )\n",
        " porta  const =  3000\n",
        "\n",
        "app . use ( bodyParser . json ( ) )\n",
        "\n",
        "app . get ( '/' ,  ( req ,  res )  =>  {\n",
        "    res . send ( 'Página Inicial' )\n",
        "} )\n",
        "\n",
        "app . get ( '/filmes' ,  ( req , res )  =>  {\n",
        "    res . enviar ( repositório . getFilmes ( ) )\n",
        "} )\n",
        "\n",
        "app . post ( '/filmes' ,  ( req , res )  =>  {\n",
        "    res . send ( repositório . createFilme ( req . corpo ) )\n",
        "} )\n",
        "\n",
        "app . put ( '/filmes' ,  ( req , res )  =>  {\n",
        "    const  id  =  req . consulta . Eu iria\n",
        "    const  filme  =  req . corpo\n",
        "    res . send ( repositório . updateFilme ( id ,  filme ) )\n",
        "} )\n",
        "\n",
        "app . delete ( '/filmes' ,  ( req , res )  =>  {\n",
        "    const  id  =  req . consulta . Eu iria\n",
        "    res . enviar ( repositório . deleteFilmes ( id ) )\n",
        "} )\n",
        "\n",
        "// Porta\n",
        "app . escuta ( porta ,  ( )  =>  {\n",
        "    console . log ( `Rodando na porta ${ port } ` )\n",
        "} )"
      ]
    },
    {
      "cell_type": "markdown",
      "source": [],
      "metadata": {
        "id": "UmegG8K6IN1y"
      }
    },
    {
      "cell_type": "markdown",
      "source": [
        "No Node.js, faça o código de um controller que deve implementar os quatro pontos do CRUD, como no exemplo apresentado no hipertexto. \n",
        "\n",
        "No entanto, ao invés de salvar na memória, utilize um banco de sua escolha para a persistência dos dados."
      ],
      "metadata": {
        "id": "F88NYVYhIV5K"
      }
    }
  ]
}