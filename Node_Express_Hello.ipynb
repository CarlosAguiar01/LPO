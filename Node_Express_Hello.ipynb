{
  "nbformat": 4,
  "nbformat_minor": 0,
  "metadata": {
    "colab": {
      "provenance": [],
      "authorship_tag": "ABX9TyOCxchAuwI6L9WMrnZZ6FuU",
      "include_colab_link": true
    },
    "kernelspec": {
      "name": "python3",
      "display_name": "Python 3"
    },
    "language_info": {
      "name": "python"
    }
  },
  "cells": [
    {
      "cell_type": "markdown",
      "metadata": {
        "id": "view-in-github",
        "colab_type": "text"
      },
      "source": [
        "<a href=\"https://colab.research.google.com/github/CarlosAguiar01/LPO/blob/main/Node_Express_Hello.ipynb\" target=\"_parent\"><img src=\"https://colab.research.google.com/assets/colab-badge.svg\" alt=\"Open In Colab\"/></a>"
      ]
    },
    {
      "cell_type": "code",
      "execution_count": null,
      "metadata": {
        "id": "sdnPLoDBFGEM"
      },
      "outputs": [],
      "source": []
    },
    {
      "cell_type": "code",
      "source": [
        "const  expresso  =  requer ( 'expresso' )\n",
        " aplicativo  const =  expresso ( )\n",
        "\n",
        "app . get ( '/' ,  ( req ,  res )  =>  {\n",
        "    res . enviar ( 'Olá mundo!' )\n",
        "} )\n",
        "\n",
        "app . ouvir ( 3000 ,  ( )  =>  {\n",
        "    console . log ( 'Servidor rodando!' )\n",
        "} )"
      ],
      "metadata": {
        "id": "3hF_UAkOFG9_"
      },
      "execution_count": null,
      "outputs": []
    },
    {
      "cell_type": "markdown",
      "source": [
        "Utilizando o Node.JS e a biblioteca Express, crie um projeto inicial que tenha uma página com o texto “Hello World”."
      ],
      "metadata": {
        "id": "71zVK_vvFILy"
      }
    }
  ]
}