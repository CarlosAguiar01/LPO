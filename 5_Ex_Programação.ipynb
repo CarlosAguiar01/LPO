{
  "nbformat": 4,
  "nbformat_minor": 0,
  "metadata": {
    "colab": {
      "name": "5 Ex Programação.ipynb",
      "provenance": [],
      "authorship_tag": "ABX9TyPaxy6jHC6aUxLssd8g7Dkj",
      "include_colab_link": true
    },
    "kernelspec": {
      "name": "python3",
      "display_name": "Python 3"
    },
    "language_info": {
      "name": "python"
    }
  },
  "cells": [
    {
      "cell_type": "markdown",
      "metadata": {
        "id": "view-in-github",
        "colab_type": "text"
      },
      "source": [
        "<a href=\"https://colab.research.google.com/github/CarlosAguiar01/LPO/blob/main/5_Ex_Programa%C3%A7%C3%A3o.ipynb\" target=\"_parent\"><img src=\"https://colab.research.google.com/assets/colab-badge.svg\" alt=\"Open In Colab\"/></a>"
      ]
    },
    {
      "cell_type": "code",
      "source": [
        "def operacao(num1, num2, operador):\n",
        "  if opcao == 1:\n",
        "    soma = num1 + num2\n",
        "    print(somar)\n",
        "  elif opcao == 2:\n",
        "    subt = num1 - num2\n",
        "    print(subtrair)\n",
        "  elif opcao == 3:\n",
        "    mult = num1 * num2\n",
        "    print(múltiplicar)\n",
        "  elif opcao == 4:\n",
        "    div = num1 / num2\n",
        "    print(dividir)\n",
        "  else:\n",
        "    retornar 0\n",
        "    \n",
        "def opcoes():\n",
        "  print('Escolha a operação você deseja realizar:')\n",
        "  print('_____'*6)\n",
        "  print('digite 1 para somar')\n",
        "  print('digite 2 para subtrair')\n",
        "  print('digite 3 para multiplicar')\n",
        "  print('digite 4 para dividir')\n",
        "  print('_____' *6 )\n",
        "  \n",
        "while i==1:\n",
        "  num1=float(input('insira o primeiro número:'))\n",
        "  num2=float(input('insira o segundo número:'))\n",
        "  operador=int(input('insira o numero relacionado a operação desejada!'))\n",
        "  resultado=operacao(num1,num2,operador)\n",
        "  if resultado=='sair':\n",
        "    i=0\n",
        "  print('o resultado é :',resultado)"
      ],
      "metadata": {
        "id": "jfYTekAkDXzo"
      },
      "execution_count": null,
      "outputs": []
    },
    {
      "cell_type": "markdown",
      "source": [
        "Quinto Exercício de Programação\n",
        "Aluno: Carlos Alberto Monteiro de Aguiar\n",
        "E-mail: car780131@gmail.com\n",
        "\n",
        "Faça uma função calculadora que os números e as operações serão feitas pelo usuário. O código deve ficar rodando infinitamente até que o usuário escolha a opção de sair. No início, o programa mostrará a seguinte lista de operações:\n",
        "1: Soma\n",
        "2: Subtração\n",
        "3: Multiplicação\n",
        "4: Divisão\n",
        "0: Sair\n",
        "\n",
        "Digite o número para a operação correspondente e caso o usuário introduza qualquer outro, o sistema deve mostrar a mensagem “Essa opção não existe” e voltar ao menu de opções.\n",
        "\n",
        "Após a seleção, o sistema deve pedir para o usuário inserir o primeiro e segundo valor, um de cada. Depois precisa executar a operação e mostrar o resultado na tela. Quando o usuário escolher a opção “Sair”, o sistema irá parar. \n",
        "\n",
        "É necessário que o sistema mostre as opções sempre que finalizar uma operação e mostrar o resultado. "
      ],
      "metadata": {
        "id": "pGuXLdbbDmUI"
      }
    }
  ]
}