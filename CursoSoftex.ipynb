{
  "nbformat": 4,
  "nbformat_minor": 0,
  "metadata": {
    "colab": {
      "name": "CursoSoftex.ipynb",
      "provenance": [],
      "authorship_tag": "ABX9TyOUeGS0H1Q+x9zB3TElJzzo",
      "include_colab_link": true
    },
    "kernelspec": {
      "name": "python3",
      "display_name": "Python 3"
    },
    "language_info": {
      "name": "python"
    }
  },
  "cells": [
    {
      "cell_type": "markdown",
      "metadata": {
        "id": "view-in-github",
        "colab_type": "text"
      },
      "source": [
        "<a href=\"https://colab.research.google.com/github/CarlosAguiar01/LPO/blob/main/CursoSoftex.ipynb\" target=\"_parent\"><img src=\"https://colab.research.google.com/assets/colab-badge.svg\" alt=\"Open In Colab\"/></a>"
      ]
    },
    {
      "cell_type": "code",
      "execution_count": null,
      "metadata": {
        "id": "EbU2VTZVs7qE"
      },
      "outputs": [],
      "source": [
        "n1= float (input (\"Digite o primeiro número: \"))\n",
        "n2= float (input (\"Digite o segundo número: \"))\n",
        "operador = float(input('Digite o operador, sendo adição 1, subtração 2, multiplicação 3, divisão 4: '))\n",
        "def calculadora (n1,n2,operador):\n",
        "    if operador == 0:\n",
        "     return 0\n",
        "    elif operador==1:\n",
        "        return n1+n2\n",
        "    elif operador==2:\n",
        "        return n1-n2\n",
        "    elif operador==3:\n",
        "        return n1*n2\n",
        "    elif operador==4:\n",
        "        return n1/n2\n",
        "    else:\n",
        "       return 0\n",
        "resultado=calculadora(n1,n2,operador)\n",
        "print('o resultado é:',resultado)"
      ]
    }
  ]
}