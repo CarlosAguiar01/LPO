{
  "nbformat": 4,
  "nbformat_minor": 0,
  "metadata": {
    "colab": {
      "name": "Softex -Poo.ipynb",
      "provenance": [],
      "authorship_tag": "ABX9TyOMJ1DdYT9tqRS/zCreXaws",
      "include_colab_link": true
    },
    "kernelspec": {
      "name": "python3",
      "display_name": "Python 3"
    },
    "language_info": {
      "name": "python"
    }
  },
  "cells": [
    {
      "cell_type": "markdown",
      "metadata": {
        "id": "view-in-github",
        "colab_type": "text"
      },
      "source": [
        "<a href=\"https://colab.research.google.com/github/CarlosAguiar01/LPO/blob/main/Softex_Poo.ipynb\" target=\"_parent\"><img src=\"https://colab.research.google.com/assets/colab-badge.svg\" alt=\"Open In Colab\"/></a>"
      ]
    },
    {
      "cell_type": "code",
      "execution_count": null,
      "metadata": {
        "id": "_sawa__6ZPsB"
      },
      "outputs": [],
      "source": [
        " String1  = \"vamos seguindo em frente!\" ;\n",
        "     String1_modificada = String1.upper()\n",
        "\n",
        "String2  = \"car780131@gmail.com\" ;\n",
        "     String2_modificada = String2.split()\n",
        "\n",
        "String3= \" curso softex recife\" ;\n",
        "     String3_modificada = String3.count(\"d\")\n"
      ]
    },
    {
      "cell_type": "markdown",
      "source": [
        "Estruture três códigos, os quais devem conter uma função de manipulação de string que obtenha\n",
        "resultado.\n"
      ],
      "metadata": {
        "id": "HeaHDqcbZps5"
      }
    }
  ]
}