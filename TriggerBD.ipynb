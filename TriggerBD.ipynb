{
  "nbformat": 4,
  "nbformat_minor": 0,
  "metadata": {
    "colab": {
      "provenance": [],
      "authorship_tag": "ABX9TyOajN/ZA2sWWDYA4+0M/Tpb",
      "include_colab_link": true
    },
    "kernelspec": {
      "name": "python3",
      "display_name": "Python 3"
    },
    "language_info": {
      "name": "python"
    }
  },
  "cells": [
    {
      "cell_type": "markdown",
      "metadata": {
        "id": "view-in-github",
        "colab_type": "text"
      },
      "source": [
        "<a href=\"https://colab.research.google.com/github/CarlosAguiar01/LPO/blob/main/TriggerBD.ipynb\" target=\"_parent\"><img src=\"https://colab.research.google.com/assets/colab-badge.svg\" alt=\"Open In Colab\"/></a>"
      ]
    },
    {
      "cell_type": "code",
      "execution_count": null,
      "metadata": {
        "id": "elXtEupYqIyr"
      },
      "outputs": [],
      "source": []
    },
    {
      "cell_type": "markdown",
      "source": [
        "Você deve criar uma tabela para executar uma trigger que relacione algum comando, como: insert, select, delete ou update."
      ],
      "metadata": {
        "id": "kRkXSs0KvXka"
      }
    },
    {
      "cell_type": "code",
      "source": [
        "#Criação de Tabelas:\n",
        "\n",
        "CREATE TABLE \"carro\" (\n",
        "\t\"id_carro\"\tINTEGER NOT NULL,\n",
        "\t\"id_modelo\"\tINTEGER,\n",
        "\tPRIMARY KEY(\"id_carro\" AUTOINCREMENT),\n",
        "\tFOREIGN KEY(\"id_modelo\") REFERENCES \"modelo\"(\"id_modelo\")\n",
        ");\n",
        "\n",
        "CREATE TABLE \"modelo\" (\n",
        "\t\"id_modelo\"\tINTEGER NOT NULL,\n",
        "\t\"modelo\"\tTEXT,\n",
        "\t\"cor\"\tINTEGER,\n",
        "\tPRIMARY KEY(\"id_modelo\" AUTOINCREMENT)\n",
        ");\n",
        "\n",
        "#Aplicação do Trigger\n",
        "\n",
        "CREATE  TRIGGER  evento \"\"\"nome criado pelo usuário para o novo trigger\"\"\"\n",
        "ON  [modelo] \"\"\" é a tabela à qual o trigger se aplica.\"\"\"\n",
        "AFTER {[INSERT],[UPDATE],[DELETE]}\n",
        "AS\n",
        "{sql_statements}"
      ],
      "metadata": {
        "id": "sPngpCYpvYwp"
      },
      "execution_count": null,
      "outputs": []
    }
  ]
}