{
  "nbformat": 4,
  "nbformat_minor": 0,
  "metadata": {
    "colab": {
      "provenance": [],
      "authorship_tag": "ABX9TyMXn0V7MafLqf/Y/Sv9iz6q",
      "include_colab_link": true
    },
    "kernelspec": {
      "name": "python3",
      "display_name": "Python 3"
    },
    "language_info": {
      "name": "python"
    }
  },
  "cells": [
    {
      "cell_type": "markdown",
      "metadata": {
        "id": "view-in-github",
        "colab_type": "text"
      },
      "source": [
        "<a href=\"https://colab.research.google.com/github/CarlosAguiar01/LPO/blob/main/Crud_Http.ipynb\" target=\"_parent\"><img src=\"https://colab.research.google.com/assets/colab-badge.svg\" alt=\"Open In Colab\"/></a>"
      ]
    },
    {
      "cell_type": "code",
      "execution_count": null,
      "metadata": {
        "id": "ghvEFqgo0eWh"
      },
      "outputs": [],
      "source": [
        "const  expresso  =  requer ( 'expresso' )\n",
        " aplicativo  const =  expresso ( )\n",
        "// FALSO BANCO DE DADOS\n",
        "deixe  livros  =  [ ]\n",
        "\n",
        "app . use ( express . json ( ) )\n",
        "\n",
        "\n",
        "// CRIO\n",
        "app . post ( '/books' ,  ( req ,  res )  =>  {\n",
        "    const  { id , título }  =  req . corpo\n",
        "    const  livro  =  { id , título }\n",
        "    livros . empurrar ( livro )\n",
        "    retorno  res . estado ( 201 ) . json ( livro )\n",
        "} )\n",
        "\n",
        "// LER\n",
        "app . get ( '/books' ,  ( req ,  res )  =>  {\n",
        "    const  allLivros  =  livros\n",
        "    retorno  res . estado ( 200 ) . json ( todos os livros )\n",
        "} )\n",
        "app . get ( '/books/:book_id' ,  ( req ,  res )  =>  {\n",
        "    const  { book_id }  =  req . parâmetros\n",
        "    const  livro  =  livros . find ( ( livros )  =>  livro . id  ===  livro_id )\n",
        "    if ( ! livro )  res . estado ( 404 ) . json ( \"Não encontrado\" )\n",
        "    retorno  res . estado ( 200 ) . json ( livro )\n",
        "} )\n",
        "\n",
        "// ATUALIZAR\n",
        "app . patch ( '/books/:book-id' ,  ( req ,  res )  =>  {\n",
        "    const  { id , título }  =  req . corpo\n",
        "    const  { book_id }  =  req . parâmetros\n",
        "    const  livro  =  livros . find ( livro  =>  livro . id  ===  livro . id )\n",
        "    livro . id  =  livro . Eu iria\n",
        "    livro . título  =  título ? título : livro . título\n",
        "    retorno  res . estado ( 200 ) . json ( livro )\n",
        "} )\n",
        "\n",
        "// APAGAR\n",
        "app . delete ( '/books/:book_id' ,  ( req ,  res )  =>  {\n",
        "    const  { book_id }  =  req . parâmetros\n",
        "    const  filtroLivro  =  livros . filtro ( livro  =  livro . id  !==  livro_id )\n",
        "    livros  -  filtroLivro\n",
        "    retorno  res . estado ( 204 ) . json\n",
        "} )\n",
        "\n",
        "// PORTA\n",
        "app . ouvir ( 3000 ,  ( )  =>  {\n",
        "    console . log ( 'Servidor rodando!' )\n",
        "} )"
      ]
    },
    {
      "cell_type": "markdown",
      "source": [
        "Faça um código para implementar o CRUD de algum recurso. Por exemplo: alunos, equipamentos ou vendas. Aponte as rotas e os retornos do status HTTP."
      ],
      "metadata": {
        "id": "qhALDnC40jsh"
      }
    }
  ]
}