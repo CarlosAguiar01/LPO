{
  "nbformat": 4,
  "nbformat_minor": 0,
  "metadata": {
    "colab": {
      "provenance": [],
      "authorship_tag": "ABX9TyPfNBF2A++UcgCaXW5rOrGG",
      "include_colab_link": true
    },
    "kernelspec": {
      "name": "python3",
      "display_name": "Python 3"
    },
    "language_info": {
      "name": "python"
    }
  },
  "cells": [
    {
      "cell_type": "markdown",
      "metadata": {
        "id": "view-in-github",
        "colab_type": "text"
      },
      "source": [
        "<a href=\"https://colab.research.google.com/github/CarlosAguiar01/LPO/blob/main/Adapter.ipynb\" target=\"_parent\"><img src=\"https://colab.research.google.com/assets/colab-badge.svg\" alt=\"Open In Colab\"/></a>"
      ]
    },
    {
      "cell_type": "code",
      "execution_count": null,
      "metadata": {
        "id": "_1p-VzZzKU3X"
      },
      "outputs": [],
      "source": [
        "class  adaptadorpato  {\n",
        "    falarpato ( )  {\n",
        "        return  'quaquaqua'\n",
        "    }\n",
        "    voar ( )  {\n",
        "        return  'em pleno voo!'\n",
        "    }\n",
        "}\n",
        "\n",
        "class  galinha  extende  adaptadorpato  {\n",
        "    falargalinha ( )  {\n",
        "        return  'Cocoricó'\n",
        "    }\n",
        "    voar ( )  {\n",
        "        return  'em pleno voo!'\n",
        "    }\n",
        "}\n",
        "\n",
        "const  galinha  =  new  galinha ( ) ;\n",
        "console . log ( galinha . falarpato ( ) )"
      ]
    },
    {
      "cell_type": "markdown",
      "source": [
        "Crie um adaptador que permita que um objeto do tipo Pato seja usado como se fosse um objeto do tipo Galinha .\n",
        "\n",
        "Siga o exemplo apresentado no Hipertexto 4 e crie as classes AdaptadorPato e AdaptadorPatoDemo para demonstrar o uso da classe AdaptadorPato ."
      ],
      "metadata": {
        "id": "oFTDrqLyMQ2H"
      }
    }
  ]
}