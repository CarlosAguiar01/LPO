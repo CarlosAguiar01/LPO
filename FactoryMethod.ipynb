{
  "nbformat": 4,
  "nbformat_minor": 0,
  "metadata": {
    "colab": {
      "provenance": [],
      "authorship_tag": "ABX9TyMjKwHjzBHNhiySkSc0eBw+",
      "include_colab_link": true
    },
    "kernelspec": {
      "name": "python3",
      "display_name": "Python 3"
    },
    "language_info": {
      "name": "python"
    }
  },
  "cells": [
    {
      "cell_type": "markdown",
      "metadata": {
        "id": "view-in-github",
        "colab_type": "text"
      },
      "source": [
        "<a href=\"https://colab.research.google.com/github/CarlosAguiar01/LPO/blob/main/FactoryMethod.ipynb\" target=\"_parent\"><img src=\"https://colab.research.google.com/assets/colab-badge.svg\" alt=\"Open In Colab\"/></a>"
      ]
    },
    {
      "cell_type": "code",
      "execution_count": null,
      "metadata": {
        "id": "yR0golPAfkLR"
      },
      "outputs": [],
      "source": [
        " class  computador {\n",
        "    static  criarcomputador ( ) {\n",
        "        return {\n",
        "            ram : 8 + 'gb' ,\n",
        "            hd : 500 + 'gb' ,\n",
        "            cpu : 4 + 'Ghz'\n",
        "        }\n",
        "    }\n",
        "}\n",
        "class  servidor {\n",
        "    static  criarservidor ( ) {\n",
        "        return {\n",
        "            ram : 8 + 'gb' ,\n",
        "            hd : 128 + 'gb' ,\n",
        "            cpu : 2 + 'Ghz'\n",
        "        }\n",
        "    }\n",
        "}\n",
        " class fabrica {\n",
        "    fabricar ( type ) {\n",
        "        if ( type === 'computador' ) {\n",
        "            consola . log ( computador criar.computador ( ) ) _\n",
        "        } ;\n",
        "        if ( type === 'servidor' ) {\n",
        "        consola . log ( servidor.criarservidor ( ) ) _ _\n",
        "        }\n",
        "    }\n",
        "}\n",
        "criando  =  new  fabrica ( )\n",
        "criando . fabricar ( 'computador' )\n",
        "criando . fabricar ( 'servidor' )\n"
      ]
    },
    {
      "cell_type": "markdown",
      "source": [
        "Aplique o Factory Method para fabricantes de computadores, usando como base o exemplo visto de estático e parametrizado no hipertexto.\n",
        "\n",
        "Considere que:\n",
        "- os produtos devem implementar uma interface comum;\n",
        "- o cliente deve usar apenas uma fábrica para criar instâncias do tipo abstrato da interface;\n",
        "- todo computador deve ter, com getters, os atributos: ram, hdd, cpu e type;\n",
        "- há dois tipos de computadores: pc e servidor;\n",
        "- RAM e HD devem estar em GB;\n",
        "- CPU deve estar em GHz;\n",
        "- através do tipo informado, a fábrica decide qual tipo de computador irá instanciar;\n",
        "- quando o método .toString() para imprimir em um computador, ele deve seus atributos."
      ],
      "metadata": {
        "id": "dbGn8mZJkcp5"
      }
    }
  ]
}