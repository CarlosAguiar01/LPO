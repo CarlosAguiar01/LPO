{
  "nbformat": 4,
  "nbformat_minor": 0,
  "metadata": {
    "colab": {
      "name": "7_ Ex_ Programação.ipynb",
      "provenance": [],
      "authorship_tag": "ABX9TyNYnDOBlZBEPranNODcEGPw",
      "include_colab_link": true
    },
    "kernelspec": {
      "name": "python3",
      "display_name": "Python 3"
    },
    "language_info": {
      "name": "python"
    }
  },
  "cells": [
    {
      "cell_type": "markdown",
      "metadata": {
        "id": "view-in-github",
        "colab_type": "text"
      },
      "source": [
        "<a href=\"https://colab.research.google.com/github/CarlosAguiar01/LPO/blob/main/7__Ex__Programa%C3%A7%C3%A3o.ipynb\" target=\"_parent\"><img src=\"https://colab.research.google.com/assets/colab-badge.svg\" alt=\"Open In Colab\"/></a>"
      ]
    },
    {
      "cell_type": "code",
      "execution_count": null,
      "metadata": {
        "id": "-JlKTDEv4QNB"
      },
      "outputs": [],
      "source": [
        "candidato1 = 889\n",
        "candidato2= 847\n",
        "candidato3 = 515\n",
        "nulo=0\n",
        "contador=1\n",
        "\n",
        "print('votos')\n",
        "print('candidato1:',candidato1)\n",
        "print('candidato2:',candidato2)\n",
        "print('candidato3:',candidato3)\n",
        "print('nulo:',nulo)\n",
        "\n",
        "while contador != 0:\n",
        "\n",
        "   try:\n",
        "    voto=int(input('Digite seu voto'))\n",
        "    if voto==1:\n",
        "      candidato1=candidato1+1\n",
        "    elif voto==2:\n",
        "      candidato2=candidato2+1\n",
        "    elif voto==3:\n",
        "      candidato3=candidato3+1\n",
        "    elif voto==0:\n",
        "      nulo=nulo+1\n",
        "      print('Anulado!')\n",
        "    msg=str(input('deseja votar novamente? S/N'))\n",
        "    if msg=='n':\n",
        "      print('Fim')\n",
        "      print('candidato1:',candidato1)\n",
        "      print('candidato2:',candidato2)\n",
        "      print('candidato3:',candidato3)\n",
        "      print('votos nulos:',nulos)\n",
        "      contador=0\n",
        " except:\n",
        "    print('Erro, tente novamente.')\n",
        "    contador=1\n"
      ]
    },
    {
      "cell_type": "markdown",
      "source": [
        ""
      ],
      "metadata": {
        "id": "X8vZ7VHX7ztm"
      }
    },
    {
      "cell_type": "markdown",
      "source": [
        "Desenvolva um código que simule uma eleição com três candidatos.\n",
        "- candidato_X => 889\n",
        "- candidato_Y => 847\n",
        "- candidato_Z => 515\n",
        "- branco => 0\n",
        "\n",
        "O código deve perguntar se deseja finalizar a votação depois do voto. Caso o número do voto não corresponda a nenhum candidato ou seja branco, ele deve ser tratado como nulo. Se for inserido um texto ao invés de número, o código deve retornar uma mensagem para votar novamente.\n",
        "\n",
        "Quando a votação for finalizada, o código deverá mostrar o vencedor, aquele com o maior número de votos e, também, a quantidade de votos de cada candidato, os brancos e nulos "
      ],
      "metadata": {
        "id": "Xem_1njR72My"
      }
    }
  ]
}