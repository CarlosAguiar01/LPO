{
  "nbformat": 4,
  "nbformat_minor": 0,
  "metadata": {
    "colab": {
      "provenance": [],
      "authorship_tag": "ABX9TyOPz6i+Phac5EjCMVJ+/xG6",
      "include_colab_link": true
    },
    "kernelspec": {
      "name": "python3",
      "display_name": "Python 3"
    },
    "language_info": {
      "name": "python"
    }
  },
  "cells": [
    {
      "cell_type": "markdown",
      "metadata": {
        "id": "view-in-github",
        "colab_type": "text"
      },
      "source": [
        "<a href=\"https://colab.research.google.com/github/CarlosAguiar01/LPO/blob/main/ProjetoNodeJS.ipynb\" target=\"_parent\"><img src=\"https://colab.research.google.com/assets/colab-badge.svg\" alt=\"Open In Colab\"/></a>"
      ]
    },
    {
      "cell_type": "code",
      "execution_count": null,
      "metadata": {
        "id": "rYXemfUdzvkt"
      },
      "outputs": [],
      "source": []
    },
    {
      "cell_type": "code",
      "source": [
        "const https = require('https');\n",
        "\n",
        "https.get('https://api.nasa.gov/planetary/apod?api_key=DEMO_KEY', (resp) => {\n",
        "  let data = '';\n",
        "\n",
        "  // Um bloco de dados foi recebido.\n",
        "  resp.on('data', (chunk) => {\n",
        "    data += chunk;\n",
        "  });\n",
        "\n",
        "  // Toda a resposta foi recebida. Exibir o resultado.\n",
        "  resp.on('end', () => {\n",
        "    console.log(JSON.parse(data).explanation);\n",
        "  });\n",
        "\n",
        "}).on(\"error\", (err) => {\n",
        "  console.log(\"Erro: \" + err.message);\n",
        "});"
      ],
      "metadata": {
        "id": "k5NPLJMWz1QH"
      },
      "execution_count": null,
      "outputs": []
    },
    {
      "cell_type": "markdown",
      "source": [
        "Sem usar bibliotecas, crie um projeto simples em Node.js que seja capaz de responder requisições HTTP.\n",
        "Explique como rodar e testar."
      ],
      "metadata": {
        "id": "B132qphUz6Ru"
      }
    }
  ]
}