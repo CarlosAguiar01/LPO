{
  "nbformat": 4,
  "nbformat_minor": 0,
  "metadata": {
    "colab": {
      "provenance": [],
      "authorship_tag": "ABX9TyM92UZW31elr9JN7vzhXm1A",
      "include_colab_link": true
    },
    "kernelspec": {
      "name": "python3",
      "display_name": "Python 3"
    },
    "language_info": {
      "name": "python"
    }
  },
  "cells": [
    {
      "cell_type": "markdown",
      "metadata": {
        "id": "view-in-github",
        "colab_type": "text"
      },
      "source": [
        "<a href=\"https://colab.research.google.com/github/CarlosAguiar01/LPO/blob/main/Procedure.ipynb\" target=\"_parent\"><img src=\"https://colab.research.google.com/assets/colab-badge.svg\" alt=\"Open In Colab\"/></a>"
      ]
    },
    {
      "cell_type": "code",
      "execution_count": null,
      "metadata": {
        "id": "VBlcj24Uoy1L"
      },
      "outputs": [],
      "source": [
        "Create Procedure QTD_Compras;\n",
        "\t@Produto Varchar(10)\n",
        "As\n",
        "\n",
        "Select id_produto\n",
        "\t  From Vendas\n",
        "\t\t  Inner Join \" \"\n",
        "\n",
        "\t  Where id_produto like @Produto;\n"
      ]
    },
    {
      "cell_type": "markdown",
      "source": [
        "Uma empresa precisa criar um relatório que faça um levantamento diário da quantidade de produtos comprados no dia. Para isso, crie um procedimento que será usado para agilizar todos os processos."
      ],
      "metadata": {
        "id": "BD60VZ2no4j3"
      }
    }
  ]
}