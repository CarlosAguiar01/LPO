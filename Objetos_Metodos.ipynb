{
  "nbformat": 4,
  "nbformat_minor": 0,
  "metadata": {
    "colab": {
      "provenance": [],
      "authorship_tag": "ABX9TyPkNMz9L9k3rvffPXuzvGRi",
      "include_colab_link": true
    },
    "kernelspec": {
      "name": "python3",
      "display_name": "Python 3"
    },
    "language_info": {
      "name": "python"
    }
  },
  "cells": [
    {
      "cell_type": "markdown",
      "metadata": {
        "id": "view-in-github",
        "colab_type": "text"
      },
      "source": [
        "<a href=\"https://colab.research.google.com/github/CarlosAguiar01/LPO/blob/main/Objetos_Metodos.ipynb\" target=\"_parent\"><img src=\"https://colab.research.google.com/assets/colab-badge.svg\" alt=\"Open In Colab\"/></a>"
      ]
    },
    {
      "cell_type": "code",
      "execution_count": null,
      "metadata": {
        "id": "r58F-9U2nVBq"
      },
      "outputs": [],
      "source": [
        "classe Banco {\n",
        "    constructor(conta, saldo, tipo, agencia) {\n",
        "        this.conta = conta;\n",
        "        this.saldo = saldo;\n",
        "        this.tipo = tipo;\n",
        "        this.agencia = agencia;\n",
        "    }\n",
        "\n",
        "   buscar_saldo() {\n",
        "     console.log(this.saldo)\n",
        "    }\n",
        "  \n",
        "    deposito(valor){\n",
        "        var saldo = this.saldo + valor\n",
        "        this.saldo = saldo\n",
        "        console.log(saldo)\n",
        "\n",
        "    }\n",
        "   \n",
        "    saque (valor) {\n",
        "        var saque = this.saldo - valor\n",
        "        this.saldo = saque\n",
        "        console.log(saque)\n",
        "    }\n",
        "  tipo_conta(){\n",
        "    console.log(this.tipo)\n",
        "  }\n",
        "}\n",
        "\n",
        "banco = new Banco(101, 2000, \"poupança\", 001)\n",
        "banco.deposito(1000)\n",
        "banco.saque(200)\n",
        "console.log(banco)"
      ]
    },
    {
      "cell_type": "markdown",
      "source": [
        "Crie um código com um objeto chamado “Banco”. Ele deverá ter propriedades que incluem conta, saldo, tipo de conta e agência e os seus métodos devem ser: buscar saldo, depósito, saque e número da conta.\n",
        "\n",
        "Observações:\n",
        "- buscar saldo deve retornar o valor atual do saldo;\n",
        "- para o depósito, você deverá passar um valor como parâmetro e adicioná-lo no saldo final do objeto;\n",
        "- para o saque, você deverá passar um valor como parâmetro e subtraí-lo no saldo final do objeto;\n",
        "- o número da conta deve retornar o número da conta.\n"
      ],
      "metadata": {
        "id": "5RxS1ujssUiV"
      }
    }
  ]
}