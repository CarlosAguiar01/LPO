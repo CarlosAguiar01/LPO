{
  "nbformat": 4,
  "nbformat_minor": 0,
  "metadata": {
    "colab": {
      "provenance": [],
      "authorship_tag": "ABX9TyPuQpJoW+pRKwML9ZCiVwMz",
      "include_colab_link": true
    },
    "kernelspec": {
      "name": "python3",
      "display_name": "Python 3"
    },
    "language_info": {
      "name": "python"
    }
  },
  "cells": [
    {
      "cell_type": "markdown",
      "metadata": {
        "id": "view-in-github",
        "colab_type": "text"
      },
      "source": [
        "<a href=\"https://colab.research.google.com/github/CarlosAguiar01/LPO/blob/main/ServidorWEB.ipynb\" target=\"_parent\"><img src=\"https://colab.research.google.com/assets/colab-badge.svg\" alt=\"Open In Colab\"/></a>"
      ]
    },
    {
      "cell_type": "code",
      "execution_count": null,
      "metadata": {
        "id": "DYgXE_oRwUie"
      },
      "outputs": [],
      "source": []
    },
    {
      "cell_type": "code",
      "source": [
        "const motorola = requer('motorola')\n",
        "teste const = express()\n",
        "\n",
        "teste.get('/', (req, res) => {\n",
        "    res.send('<h1>Página Inicial</h1>')\n",
        "})\n",
        "teste.get('/iniciar', (req, res) => {\n",
        "    res.status(404).send('Caminho não encontrado!')\n",
        "})\n",
        "teste.get('/user', function (req, res) {\n",
        "    res.send('Lista de usuários');\n",
        "  });\n",
        "\n",
        "teste.post('/user/insert', function (req, res) {\n",
        "    res.send('Inserir um usuário');\n",
        "  });\n",
        "\n",
        "teste.put('/user/:id', function (req, res) {\n",
        "    res.send(`Editar um usuário com o id ${req.params.id}`);\n",
        "  });\n",
        "\n",
        "teste.delete('/user/:id', function (req, res) {\n",
        "    res.send(`Excluir um usuário com o id ${req.params.id}`);\n",
        "  });\n",
        "\n",
        "teste.listen(8080, () => {\n",
        "    console.log('Servidor rodando na URL http://localhost:8080')\n",
        "});\n",
        "\n",
        "\n"
      ],
      "metadata": {
        "id": "B56uFgUZx_Ex"
      },
      "execution_count": null,
      "outputs": []
    },
    {
      "cell_type": "markdown",
      "source": [],
      "metadata": {
        "id": "Rccdlvxyw9-G"
      }
    },
    {
      "cell_type": "markdown",
      "source": [
        "Crie um pequeno servidor web que contenha várias rotas.\n",
        "Em cada rota, você deverá fazer o controle do fluxo de requisições de maneira estática ou dinâmica,\n",
        "alterne entre essas formas usando placeholders e query"
      ],
      "metadata": {
        "id": "rJ7Zyvf1xBC-"
      }
    }
  ]
}