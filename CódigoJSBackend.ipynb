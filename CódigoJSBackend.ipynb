{
  "nbformat": 4,
  "nbformat_minor": 0,
  "metadata": {
    "colab": {
      "provenance": [],
      "authorship_tag": "ABX9TyNpgg8s0/IjkAfztI10GPLS",
      "include_colab_link": true
    },
    "kernelspec": {
      "name": "python3",
      "display_name": "Python 3"
    },
    "language_info": {
      "name": "python"
    }
  },
  "cells": [
    {
      "cell_type": "markdown",
      "metadata": {
        "id": "view-in-github",
        "colab_type": "text"
      },
      "source": [
        "<a href=\"https://colab.research.google.com/github/CarlosAguiar01/LPO/blob/main/C%C3%B3digoJSBackend.ipynb\" target=\"_parent\"><img src=\"https://colab.research.google.com/assets/colab-badge.svg\" alt=\"Open In Colab\"/></a>"
      ]
    },
    {
      "cell_type": "code",
      "execution_count": null,
      "metadata": {
        "id": "4L_GvO2tkmuk"
      },
      "outputs": [],
      "source": [
        "importar  expresso  de  'expresso' ;\n",
        "\n",
        "const  app  =  express ( ) ;\n",
        "\n",
        "aplicativo . ouça ( 300 ,  ( )  =>\n",
        "\tconsola . log ( 'Servidor iniciado na porta 3000' )\n",
        ") ;\n",
        "\n",
        "aplicativo . get ( '/' ,  ( solicitação ,  resposta )  =>  {\n",
        "    resposta . enviar ( 'testando' ) ;\n",
        "} ) ;\n"
      ]
    }
  ]
}