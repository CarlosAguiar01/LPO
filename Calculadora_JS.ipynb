{
  "nbformat": 4,
  "nbformat_minor": 0,
  "metadata": {
    "colab": {
      "name": "Calculadora_JS.ipynb",
      "provenance": [],
      "authorship_tag": "ABX9TyM6/2Cvb0kLo7eDZ60WhRtA",
      "include_colab_link": true
    },
    "kernelspec": {
      "name": "python3",
      "display_name": "Python 3"
    },
    "language_info": {
      "name": "python"
    }
  },
  "cells": [
    {
      "cell_type": "markdown",
      "metadata": {
        "id": "view-in-github",
        "colab_type": "text"
      },
      "source": [
        "<a href=\"https://colab.research.google.com/github/CarlosAguiar01/LPO/blob/main/Calculadora_JS.ipynb\" target=\"_parent\"><img src=\"https://colab.research.google.com/assets/colab-badge.svg\" alt=\"Open In Colab\"/></a>"
      ]
    },
    {
      "cell_type": "code",
      "execution_count": null,
      "metadata": {
        "id": "y3fy_4KOD-QS"
      },
      "outputs": [],
      "source": [
        "n1 = int(input(\"insira um numero: \"))\n",
        "n2 = int(input(\"insira outro numero: \"))\n",
        "cond = input(\"insira a operação equivalente: + , - , * , / \")\n",
        "if cond == \"+\":\n",
        "    z = n1 + n2\n",
        "    print(z)\n",
        "elif cond == \"-\":\n",
        "    z = n1 - n2\n",
        "    print(z)\n",
        "elif cond == \"*\":\n",
        "    z = n1 * n2\n",
        "    print(z)\n",
        "elif cond == \"/\":\n",
        "    z = n1 / n2\n",
        "    s = n1 % n2\n",
        "    print(\"valor:\",z, \"sobra:\",s)\n",
        "else:\n",
        "    print(\"operacao invalida!\")"
      ]
    },
    {
      "cell_type": "markdown",
      "source": [
        "Com os conceitos aprendidos, crie um programa de calculadora que: \n",
        "\n",
        "receba dois valores, que devem ser salvos em variáveis; \n",
        "o usuário deve colocar qual operador ele vai utilizar por meio dos símbolos aritméticos; \n",
        "com os dois valores e o operador definido, o programa deve fazer a operação e retornar o resultado; \n",
        "se houver divisão, você deve retornar o resultado e a sobra, caso haja alguma. \n"
      ],
      "metadata": {
        "id": "TqhYCBASEAxh"
      }
    }
  ]
}