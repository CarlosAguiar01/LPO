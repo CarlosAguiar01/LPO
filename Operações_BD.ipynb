{
  "nbformat": 4,
  "nbformat_minor": 0,
  "metadata": {
    "colab": {
      "provenance": [],
      "authorship_tag": "ABX9TyPaJ2Dj/kwVJ4tHRMlUY19o",
      "include_colab_link": true
    },
    "kernelspec": {
      "name": "python3",
      "display_name": "Python 3"
    },
    "language_info": {
      "name": "python"
    }
  },
  "cells": [
    {
      "cell_type": "markdown",
      "metadata": {
        "id": "view-in-github",
        "colab_type": "text"
      },
      "source": [
        "<a href=\"https://colab.research.google.com/github/CarlosAguiar01/LPO/blob/main/Opera%C3%A7%C3%B5es_BD.ipynb\" target=\"_parent\"><img src=\"https://colab.research.google.com/assets/colab-badge.svg\" alt=\"Open In Colab\"/></a>"
      ]
    },
    {
      "cell_type": "code",
      "execution_count": null,
      "metadata": {
        "id": "OD9-hXlSs22N"
      },
      "outputs": [],
      "source": [
        "1- Alunos Aprovados = Select Nota do Aluno while Nota>7;\n",
        "\n",
        "2- Select * From Aluno While NOTA>=8;\n",
        "\n",
        "3- Select Nome do Aluno, Nota do Aluno;\n",
        "\n",
        "4- Creat Table 'Professor' (\n",
        "\t\t\t\tPrimeironome Str,\n",
        "\t\t\t\tUltimonome Str\n",
        "\t\t\t\t\t\t)\n",
        "\n",
        "5- Creat Table 'Aluno' (\n",
        "\t\t\t\tPrimeironome Str,\n",
        "\t\t\t\tUltimonome Str\n",
        "\t\t\t\t\t\t)\n",
        "\n",
        "\n",
        "6- Aluno(PNome, UNome) Professor\n",
        "\n",
        "7- Aluno(PNome, UNome) Intersct Professor\n",
        "\n",
        "\n",
        "8- Select * de Aluno Onde Aluno Not In (Select * de Professor)\n"
      ]
    },
    {
      "cell_type": "markdown",
      "source": [],
      "metadata": {
        "id": "CR_2sGmls78p"
      }
    },
    {
      "cell_type": "markdown",
      "source": [],
      "metadata": {
        "id": "RYmOn4M7s88D"
      }
    },
    {
      "cell_type": "markdown",
      "source": [
        "De acordo com os conceitos estudados, exiba os resultados das operações selecionadas, projeto, união,\n",
        " intersecção e diferença. Siga as instruções com base na tabela apresentada em anexo.\n",
        "\n",
        "1- como informações apenas dos alunos aprovados. A aprovação é acima de 7,0;\n",
        "2- Exiba as informações dos alunos do primeiro ano com nota maior ou igual a 8,0;\n",
        "3- Exiba apenas os nomes e as notas dos alunos;\n",
        "4- Crie uma tabela PROFESSOR que apresenta apenas o primeiro e último nome do professor;\n",
        "5- Crie uma tabela ALUNO com o primeiro e último nome de cada;\n",
        "6- Mostre o resultado da união entre a tabela ALUNO(PNome, UNome) e a tabela PROFESSOR;\n",
        "7- Exiba o resultado da intersecção entre a tabela ALUNO(PNome, UNome) e a tabela PROFESSOR;\n",
        "8- Exiba o resultado da diferença entre a tabela ALUNO(PNome, UNome) e a tabela PROFESSOR."
      ],
      "metadata": {
        "id": "r0t7Rur3tBub"
      }
    }
  ]
}