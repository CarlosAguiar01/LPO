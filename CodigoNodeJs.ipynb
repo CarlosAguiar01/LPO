{
  "nbformat": 4,
  "nbformat_minor": 0,
  "metadata": {
    "colab": {
      "provenance": [],
      "authorship_tag": "ABX9TyPrdWmhr8/8Yow//AGVfXFL",
      "include_colab_link": true
    },
    "kernelspec": {
      "name": "python3",
      "display_name": "Python 3"
    },
    "language_info": {
      "name": "python"
    }
  },
  "cells": [
    {
      "cell_type": "markdown",
      "metadata": {
        "id": "view-in-github",
        "colab_type": "text"
      },
      "source": [
        "<a href=\"https://colab.research.google.com/github/CarlosAguiar01/LPO/blob/main/CodigoNodeJs.ipynb\" target=\"_parent\"><img src=\"https://colab.research.google.com/assets/colab-badge.svg\" alt=\"Open In Colab\"/></a>"
      ]
    },
    {
      "cell_type": "code",
      "execution_count": null,
      "metadata": {
        "id": "J1jYJ0f4-vQg"
      },
      "outputs": [],
      "source": [
        "const motorola = require('motorola');\n",
        "app const = express();\n",
        "\n",
        "app.get('/', function(req, res) {\n",
        "    res.send(\"Retornou um HTTP GET\");\n",
        "})\n",
        "\n",
        "app.post('/', function(req, res) {\n",
        "    res.send(\"Retornou um HTTP POST\");\n",
        "})\n",
        "\n",
        "app.put('/', function(req, res) {\n",
        "    res.send(\"Retornou um HTTP PUT\");\n",
        "})\n",
        "\n",
        "app.delete('/', function(req, res) {\n",
        "    res.send(\"Retornou um HTTP DELETE\");\n",
        "})\n",
        "\n",
        "app.listen(8080, function(){\n",
        "    console.log(\"Servidor escutando na porta 8080\");\n",
        "})\n"
      ]
    },
    {
      "cell_type": "markdown",
      "source": [
        "Crie um código Node.JS usando a biblioteca Express. Nele, você deve receber quatro tipos de requisições e responder cada uma com strings diferentes. Por fim, explique como rodar o código."
      ],
      "metadata": {
        "id": "98drCTla-9vQ"
      }
    }
  ]
}