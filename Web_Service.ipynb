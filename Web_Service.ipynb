{
  "nbformat": 4,
  "nbformat_minor": 0,
  "metadata": {
    "colab": {
      "provenance": [],
      "authorship_tag": "ABX9TyOY7ZV+SvEAu4hKL/IpO4Za",
      "include_colab_link": true
    },
    "kernelspec": {
      "name": "python3",
      "display_name": "Python 3"
    },
    "language_info": {
      "name": "python"
    }
  },
  "cells": [
    {
      "cell_type": "markdown",
      "metadata": {
        "id": "view-in-github",
        "colab_type": "text"
      },
      "source": [
        "<a href=\"https://colab.research.google.com/github/CarlosAguiar01/LPO/blob/main/Web_Service.ipynb\" target=\"_parent\"><img src=\"https://colab.research.google.com/assets/colab-badge.svg\" alt=\"Open In Colab\"/></a>"
      ]
    },
    {
      "cell_type": "code",
      "execution_count": null,
      "metadata": {
        "id": "6aOJK2gFIwTg"
      },
      "outputs": [],
      "source": [
        "const  expresso  =  requer ( 'expresso' )\n",
        " aplicativo  const =  expresso ( )\n",
        "deixar  vídeos  =  [ ]\n",
        "\n",
        "aplicativo\n",
        "    . post ( '/vídeos' ,  ( req ,  res )  =>  {\n",
        "        const  { id }  =  req . corpo\n",
        "         vídeo  const =  { id }\n",
        "        vídeos . empurre ( vídeo )\n",
        "        retorno  res . estado ( 200 ) . json ( { message : 'Vídeo inserido com sucesso!' } )\n",
        "    } )\n",
        "\n",
        "    . delete ( '/videos/:video_id' ,  ( req ,  res )  =>  {\n",
        "        const  { video_id }  =  req . parâmetros\n",
        "        const  filterVideo  =  videos . filtro ( video  =  video . id  !==  video_id )\n",
        "        livros  -  filtroVídeo\n",
        "        retorno  res . estado ( 204 ) . json ( { message : 'Vídeo deletado com sucesso!' } )\n",
        "    } )\n",
        "\n",
        "\n",
        "app . ouvir ( 3000 ,  ( )  =>  {\n",
        "    console . log ( 'Servidor rodando!' )\n",
        "} )"
      ]
    },
    {
      "cell_type": "markdown",
      "source": [
        "Crie um web service usando o Node.js e o framework Express.\n",
        "\n",
        "Nele, desenvolva duas rotas HTTP com comunicação via JSON."
      ],
      "metadata": {
        "id": "qacW_gSLI2sV"
      }
    }
  ]
}