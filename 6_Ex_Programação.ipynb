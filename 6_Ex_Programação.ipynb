{
  "nbformat": 4,
  "nbformat_minor": 0,
  "metadata": {
    "colab": {
      "name": "6 Ex Programação.ipynb",
      "provenance": [],
      "authorship_tag": "ABX9TyPt+g8FOkuTw4jmiOBmjDbv",
      "include_colab_link": true
    },
    "kernelspec": {
      "name": "python3",
      "display_name": "Python 3"
    },
    "language_info": {
      "name": "python"
    }
  },
  "cells": [
    {
      "cell_type": "markdown",
      "metadata": {
        "id": "view-in-github",
        "colab_type": "text"
      },
      "source": [
        "<a href=\"https://colab.research.google.com/github/CarlosAguiar01/LPO/blob/main/6_Ex_Programa%C3%A7%C3%A3o.ipynb\" target=\"_parent\"><img src=\"https://colab.research.google.com/assets/colab-badge.svg\" alt=\"Open In Colab\"/></a>"
      ]
    },
    {
      "cell_type": "code",
      "execution_count": null,
      "metadata": {
        "id": "VbgGjYbCY5PK"
      },
      "outputs": [],
      "source": [
        "def funcao(ano nascimento):\n",
        "  if ano nascimento >=1992 and ano nascimento<=2021 :\n",
        "     return 2022-ano nascimento\n",
        "  else :\n",
        "    raise Exception('insira ano nascimento permitido ou um valor ')\n",
        "while n ==1:\n",
        "  nome completo = str(input('informe nome completo:'))\n",
        "  ano nascimento = int(input('informe ano de nascimento:'))\n",
        "  try:\n",
        "    result = funcao(ano nascimento)\n",
        "    print('é correto afirmar que neste ano você tem ou tera',funcao(ano nascimento))\n",
        "  except:\n",
        "    print('insira um ano de nascimento permitido ou insira um valor ')\n",
        "    a=input('deseja dar continuidade ? S/N')\n",
        "    if a=='n':\n",
        "      n=0"
      ]
    },
    {
      "cell_type": "markdown",
      "source": [
        "Desenvolva um programa que recebe do usuário nome completo e ano de nascimento que seja entre 1922 e 2021. A partir dessas informações, o sistema mostrará o nome do usuário e a idade que completou, ou completará, no ano atual (2022).\n",
        "\n",
        "Caso o usuário não digite um número ou apareça um inválido no campo do ano, o sistema informará o erro e continuará perguntando até que um valor correto seja preenchido."
      ],
      "metadata": {
        "id": "w8lPgWnyvmUk"
      }
    }
  ]
}