{
  "nbformat": 4,
  "nbformat_minor": 0,
  "metadata": {
    "colab": {
      "provenance": [],
      "authorship_tag": "ABX9TyMd4YcmKwfwffTA76+B1dbu",
      "include_colab_link": true
    },
    "kernelspec": {
      "name": "python3",
      "display_name": "Python 3"
    },
    "language_info": {
      "name": "python"
    }
  },
  "cells": [
    {
      "cell_type": "markdown",
      "metadata": {
        "id": "view-in-github",
        "colab_type": "text"
      },
      "source": [
        "<a href=\"https://colab.research.google.com/github/CarlosAguiar01/LPO/blob/main/Express.ipynb\" target=\"_parent\"><img src=\"https://colab.research.google.com/assets/colab-badge.svg\" alt=\"Open In Colab\"/></a>"
      ]
    },
    {
      "cell_type": "code",
      "execution_count": null,
      "metadata": {
        "id": "RcShpOqmjmA5"
      },
      "outputs": [],
      "source": [
        "const expresso = requer('expresso')\n",
        "aplicativo const = expresso()\n",
        "\n",
        "app.get('/',(req, res) => {\n",
        "    res.send('Olá expresso')\n",
        "})\n",
        "\n",
        "app.post('/',(req, res) => {\n",
        "    res.send('Olá expresso')\n",
        "})\n",
        "\n",
        "\n",
        "\n",
        "app.listen(8080,()=>{\n",
        "    console.log('Servidor escutando na porta 8080')\n",
        "})\n"
      ]
    },
    {
      "cell_type": "markdown",
      "source": [
        "Usando o Express, crie um código Node.JS, que deve receber requisições HTTP GET e POST. Depois, coloque o servidor para rodar na porta 8080."
      ],
      "metadata": {
        "id": "4n_UgHrDj1aW"
      }
    }
  ]
}