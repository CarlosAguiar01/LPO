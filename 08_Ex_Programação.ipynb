{
  "nbformat": 4,
  "nbformat_minor": 0,
  "metadata": {
    "colab": {
      "name": "08_Ex_Programação.ipynb",
      "provenance": [],
      "authorship_tag": "ABX9TyMb06Jwo/ZzUGr5n4yHbVQC",
      "include_colab_link": true
    },
    "kernelspec": {
      "name": "python3",
      "display_name": "Python 3"
    },
    "language_info": {
      "name": "python"
    }
  },
  "cells": [
    {
      "cell_type": "markdown",
      "metadata": {
        "id": "view-in-github",
        "colab_type": "text"
      },
      "source": [
        "<a href=\"https://colab.research.google.com/github/CarlosAguiar01/LPO/blob/main/08_Ex_Programa%C3%A7%C3%A3o.ipynb\" target=\"_parent\"><img src=\"https://colab.research.google.com/assets/colab-badge.svg\" alt=\"Open In Colab\"/></a>"
      ]
    },
    {
      "cell_type": "code",
      "execution_count": null,
      "metadata": {
        "id": "FW656SB90NiO"
      },
      "outputs": [],
      "source": [
        " import pandas as pd\n",
        "\n",
        "df = pd.read_csv('notas_alunos.csv')\n",
        "\n",
        "media = (df['nota_1'] + df['nota_2']) / 2\n",
        "\n",
        "df ['media'] = media\n",
        "\n",
        "df ['situcao'] = situacao\n",
        "df . loc [ df [ 'media' ] <  7 , 'situacao' ] =  'REPROVADO'\n",
        "df . loc [ df [ 'faltas' ] >  5 , 'situacao' ] =  'REPROVADO'\n",
        "df . loc [ df [ 'media' ] >= 7 , 'situacao' ] =  'APROVADO'\n",
        "df . loc [ df [ 'faltas' ] <=  5 , 'situacao' ] =  'APROVADO'\n",
        "\n",
        "df . to_csv ( 'alunos_situacao.csv')\n",
        "\n",
        "maior_numero_faltas = df['faltas'].max()\n",
        "media_geral = df['media'].sum() / df['media'].count()\n",
        "maior_media= df['media'].max()\n",
        "\n",
        "print('Maior número de faltas:', maior_numero_faltas)\n",
        "print('Média da turma:', media_geral)\n",
        "print('A maior média foi:', maior_media)\n"
      ]
    },
    {
      "cell_type": "markdown",
      "source": [
        "Desenvolva um programa que deve ler um arquivo csv intitulado “notas_alunos.csv”.\n",
        " O arquivo deve ter a seguinte estrutura:\n",
        "\n",
        "aluno: Nome do aluno;\n",
        "nota_1: Primeira nota;\n",
        "nota_2: Segunda nota;\n",
        "faltas: Número de faltas;\n",
        "\n",
        "O programa lerá esse arquivo e criará duas colunas. A primeira coluna será “media”, que terá a média\n",
        " das duas notas do aluno. A segunda será “situacao”, com os valores: APROVADO ou REPROVADO.\n",
        "\n",
        "O aluno que tiver mais de 5 faltas ou possuir média menor que sete, será reprovado.\n",
        "O programa deverá salvar esse novo dataframe com o nome “alunos_situacao.csv”.\n",
        "\n",
        "Por fim, o programa deverá mostrar na tela:\n",
        "- o maior número de faltas;\n",
        "- a média geral das notas dos alunos;\n",
        "- e a maior média."
      ],
      "metadata": {
        "id": "mgt7LGZr0SZF"
      }
    }
  ]
}