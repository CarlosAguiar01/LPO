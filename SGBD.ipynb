{
  "nbformat": 4,
  "nbformat_minor": 0,
  "metadata": {
    "colab": {
      "provenance": [],
      "authorship_tag": "ABX9TyNuhfXa0t4Fyy4MLV15cwVy",
      "include_colab_link": true
    },
    "kernelspec": {
      "name": "python3",
      "display_name": "Python 3"
    },
    "language_info": {
      "name": "python"
    }
  },
  "cells": [
    {
      "cell_type": "markdown",
      "metadata": {
        "id": "view-in-github",
        "colab_type": "text"
      },
      "source": [
        "<a href=\"https://colab.research.google.com/github/CarlosAguiar01/LPO/blob/main/SGBD.ipynb\" target=\"_parent\"><img src=\"https://colab.research.google.com/assets/colab-badge.svg\" alt=\"Open In Colab\"/></a>"
      ]
    },
    {
      "cell_type": "code",
      "execution_count": null,
      "metadata": {
        "id": "XrR683vYfY_h"
      },
      "outputs": [],
      "source": []
    },
    {
      "cell_type": "markdown",
      "source": [],
      "metadata": {
        "id": "8CIgYAnSfZzT"
      }
    },
    {
      "cell_type": "markdown",
      "source": [
        "De acordo com o conteúdo estudado, cite exemplos de Sistemas de Bancos de Dados relacionais e não relacionais (NoSQL).\n",
        "\n",
        "- SGBD Relacionais: Mysql, Oracle, Sql Server, Maria DB, Postegre Sql.\n",
        "\n",
        "- SGBD Não-Relacionais: Redis, Memcached, Cassandra, Hbase, MongoDb."
      ],
      "metadata": {
        "id": "0CzL8rSBiDhN"
      }
    }
  ]
}