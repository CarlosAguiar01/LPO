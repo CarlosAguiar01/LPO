{
  "nbformat": 4,
  "nbformat_minor": 0,
  "metadata": {
    "colab": {
      "provenance": [],
      "authorship_tag": "ABX9TyPLwm0IizsS4DuMS+/8eXd1",
      "include_colab_link": true
    },
    "kernelspec": {
      "name": "python3",
      "display_name": "Python 3"
    },
    "language_info": {
      "name": "python"
    }
  },
  "cells": [
    {
      "cell_type": "markdown",
      "metadata": {
        "id": "view-in-github",
        "colab_type": "text"
      },
      "source": [
        "<a href=\"https://colab.research.google.com/github/CarlosAguiar01/LPO/blob/main/Banco_de_dados.ipynb\" target=\"_parent\"><img src=\"https://colab.research.google.com/assets/colab-badge.svg\" alt=\"Open In Colab\"/></a>"
      ]
    },
    {
      "cell_type": "code",
      "execution_count": null,
      "metadata": {
        "id": "PtopS4P8YMOo"
      },
      "outputs": [],
      "source": []
    },
    {
      "cell_type": "markdown",
      "source": [
        "O Sistema de Gerenciamento de Bancos de Dados é um conjunto de programas que serve para gerenciar\n",
        "  um ou mais banco de dados. Defina: dados, banco de dados, modelo de dados, metadados e catálogo de\n",
        "  dados.\n",
        "\n",
        "\n",
        "\n",
        "\n",
        "Dados:\n",
        " são observações documentadas ou resultados da medição. A disponibilidade dos dados oferece\n",
        " oportunidades para a obtenção de informações. Os dados podem ser obtidos pela percepção através dos\n",
        " sentidos (por exemplo observação) ou pela execução de um processo de medição.\n",
        "\n",
        "Banco de Dados:\n",
        "Um banco de dados é uma coleção organizada de informações - ou dados - estruturadas, normalmente\n",
        "armazenadas eletronicamente em um sistema de computador. Um banco de dados é geralmente controlado\n",
        " por um sistema de gerenciamento de banco de dados (DBMS).\n",
        "\n",
        "Modelo de Banco de Dados:\n",
        "mostra a estrutura lógica de um banco de dados, incluindo as relações e restrições que determinam\n",
        "como os dados podem ser armazenados e acessados.\n",
        "\n",
        "Metadados:\n",
        "Metadados, ou Metainformação, são dados sobre outros dados. O prefixo “Meta” vem do grego e significa\n",
        " “além de”. Assim Metadados são informações que acrescem aos dados e que têm como objetivo informar-nos\n",
        "  sobre eles para tornar mais fácil a sua organização.\n",
        "\n",
        "Catálogo de Dados:\n",
        "é um inventário organizado de ativos de dados na organização. Ele usa metadados para ajudar as\n",
        "organizações a gerenciarem seus dados. Também ajuda os profissionais de dados a coletar, organizar,\n",
        " acessar e enriquecer metadados para oferecer suporte à descoberta e governança de dados."
      ],
      "metadata": {
        "id": "p8uLZz0k_qBk"
      }
    }
  ]
}