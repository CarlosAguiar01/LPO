{
  "nbformat": 4,
  "nbformat_minor": 0,
  "metadata": {
    "colab": {
      "provenance": [],
      "authorship_tag": "ABX9TyNOOqzu0z/+hByhcvNY06NJ",
      "include_colab_link": true
    },
    "kernelspec": {
      "name": "python3",
      "display_name": "Python 3"
    },
    "language_info": {
      "name": "python"
    }
  },
  "cells": [
    {
      "cell_type": "markdown",
      "metadata": {
        "id": "view-in-github",
        "colab_type": "text"
      },
      "source": [
        "<a href=\"https://colab.research.google.com/github/CarlosAguiar01/LPO/blob/main/Strategy.ipynb\" target=\"_parent\"><img src=\"https://colab.research.google.com/assets/colab-badge.svg\" alt=\"Open In Colab\"/></a>"
      ]
    },
    {
      "cell_type": "code",
      "execution_count": null,
      "metadata": {
        "id": "vTAY4qNJNm6v"
      },
      "outputs": [],
      "source": [
        "String  operação = \"operação\" ;\n",
        "            alternar ( optar ) {\n",
        "                caso  1 :\n",
        "                    operação = \"soma\" ;\n",
        "                    cálculo _ setOperation ( new  soma ());\n",
        "\n",
        "                caso  2 :\n",
        "                    operação = \"subtração\" ;\n",
        "                    cálculo _ setOperation ( new  subtração ());\n",
        "\n",
        "                caso  3 :\n",
        "                    operação = \"multiplicação\" ;\n",
        "                    cálculo _ setOperation ( new  multiplicação ());\n",
        "\n",
        "\n",
        "\n",
        "            }"
      ]
    },
    {
      "cell_type": "markdown",
      "source": [
        "Considerando a solução apresentada no Hipertexto 5, aplique o padrão de projeto Strategy para criar uma simples calculadora. Os requisitos para avaliar o projeto são:\n",
        "- implementar uma interface Strategy com o método abstrato execute(). Deve haver três classes concretas que implementam a Strategy para realizar as operações de Soma, Subtração e Multiplicação de números inteiros;\n",
        "- o método execute() deve receber dois números inteiros como parâmetros e retornar o resultado também como número inteiro;\n",
        "- como input do usuário, a aplicação deve receber o primeiro valor, depois o segundo e, por último, a operação matemática que deve realizar;\n",
        "- no final, a aplicação deve definir qual Strategy será usada, com base na operação informada, e imprimir o resultado da operação."
      ],
      "metadata": {
        "id": "GE5TOhJYZBXU"
      }
    }
  ]
}