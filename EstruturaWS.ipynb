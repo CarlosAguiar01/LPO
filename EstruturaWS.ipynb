{
  "nbformat": 4,
  "nbformat_minor": 0,
  "metadata": {
    "colab": {
      "provenance": [],
      "authorship_tag": "ABX9TyOW5UFxluNDLUWQ6QqispbD",
      "include_colab_link": true
    },
    "kernelspec": {
      "name": "python3",
      "display_name": "Python 3"
    },
    "language_info": {
      "name": "python"
    }
  },
  "cells": [
    {
      "cell_type": "markdown",
      "metadata": {
        "id": "view-in-github",
        "colab_type": "text"
      },
      "source": [
        "<a href=\"https://colab.research.google.com/github/CarlosAguiar01/LPO/blob/main/EstruturaWS.ipynb\" target=\"_parent\"><img src=\"https://colab.research.google.com/assets/colab-badge.svg\" alt=\"Open In Colab\"/></a>"
      ]
    },
    {
      "cell_type": "code",
      "execution_count": null,
      "metadata": {
        "id": "r_XIW0EN49VV"
      },
      "outputs": [],
      "source": [
        "SOLICITAÇÃO DE PROCESSADOR\n",
        "\n",
        "POST /InStock HTTP/1.1\n",
        "Host: www.example.org\n",
        "Tipo de conteúdo: aplicativo/soap+xml; conjunto de caracteres = utf-8\n",
        "Comprimento do conteúdo: nnn\n",
        "\n",
        "<? versão xml = \" 1.0 \" ?>\n",
        "\n",
        "< processador : Envelope\n",
        "xmlns:soap= \" http://www.w3.org/2003/05/soap-envelope/ \"\n",
        "soap:encodingStyle= \" http://www.w3.org/2003/05/soap-encoding \" >\n",
        "< processador : Body  xmlns : m = \" http://www.example.org/stock \" >\n",
        "  < m : GetCadastro >\n",
        "    < m : CadastroID >53000000</ m : CadastroID >\n",
        "    < m : CadastroCEP >53260570</ m : CadastroCEP >\n",
        "  </ m : GetCadastro >\n",
        "</ processador : Corpo >\n",
        "</ processador : Envelope >\n",
        "\n",
        "\n",
        "RESPOSTA SOAP\n",
        "\n",
        "HTTP/1.1 200 OK\n",
        "Tipo de conteúdo: aplicativo/soap+xml; conjunto de caracteres = utf-8\n",
        "Comprimento do conteúdo: nnn\n",
        "\n",
        "<? versão xml = \" 1.0 \" ?>\n",
        "\n",
        "< processador : Envelope\n",
        "xmlns:soap= \" http://www.w3.org/2003/05/soap-envelope/ \"\n",
        "soap:encodingStyle= \" http://www.w3.org/2003/05/soap-encoding \" >\n",
        "< processador : Body  xmlns : m = \" http://www.example.org/stock \" >\n",
        "  < m : GetCadastroResponse >\n",
        "    < m : CadastroNome >Gustavo Pedro</ m : CadastroNome >\n",
        "    < m : Cadastrologradouro >Rua</ m : Cadastrologradouro >\n",
        "    < m : Cadastroendereco >Pereira Feitosa</ m : Cadastroendereco >\n",
        "    < m : Cadastronumero >23</ m : Cadastronumero >\n",
        "    < m : Cadastrobairro >Afogados</ m : Cadastrobairro >\n",
        "    < m : CadastroCidadeEstado >Recife - SP</ m : CadastroCidadeEstado >\n",
        "    < m : Cadastrotelefone >(81)991748563</ m : Cadastrotelefone >\n",
        "  </ m : GetCadastrResponse >\n",
        "</ processador : Body >\n",
        "</ processador : Envelope >"
      ]
    },
    {
      "cell_type": "markdown",
      "source": [
        "Uma empresa precisa se comunicar com outras para enviar informações pessoais sobre seus clientes, como nome, endereço e número de telefone. É importante\n",
        " garantir a segurança desses dados e se preocupar com quem eles são compartilhados.\n",
        "Para isso, crie a estrutura de um web service, que demonstra exemplos de comunicação SOAP\n",
        "(requisição e resposta em xmls) e explique como ele funciona."
      ],
      "metadata": {
        "id": "VMDCCQo25JHS"
      }
    }
  ]
}