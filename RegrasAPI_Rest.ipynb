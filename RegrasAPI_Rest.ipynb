{
  "nbformat": 4,
  "nbformat_minor": 0,
  "metadata": {
    "colab": {
      "provenance": [],
      "authorship_tag": "ABX9TyN7jEJWRIWVlWuoBTxFXAQJ",
      "include_colab_link": true
    },
    "kernelspec": {
      "name": "python3",
      "display_name": "Python 3"
    },
    "language_info": {
      "name": "python"
    }
  },
  "cells": [
    {
      "cell_type": "markdown",
      "metadata": {
        "id": "view-in-github",
        "colab_type": "text"
      },
      "source": [
        "<a href=\"https://colab.research.google.com/github/CarlosAguiar01/LPO/blob/main/RegrasAPI_Rest.ipynb\" target=\"_parent\"><img src=\"https://colab.research.google.com/assets/colab-badge.svg\" alt=\"Open In Colab\"/></a>"
      ]
    },
    {
      "cell_type": "code",
      "execution_count": null,
      "metadata": {
        "id": "zuo9xKyjJoJk"
      },
      "outputs": [],
      "source": []
    },
    {
      "cell_type": "markdown",
      "source": [
        "Seis regras de uma API REST.\n",
        "\n",
        "Cliente-Servidor: A separação das responsabilidades é o princípio por trás do cliente-servidor.\n",
        "Ao separar as preocupações de interface de usuário (UI) do armazenamento de dados, é possível melhorar a portabilidade através de múltiplas plataformas de UI,\n",
        "simplificar os componentes do servidor, mas principalmente, permitir a evolução de forma independente uma vez que não há dependência entre os lados cliente/servidor.\n",
        "\n",
        "Interface Uniforme: A característica principal que diferencia o estilo arquitetural REST dos demais é uma interface uniforme entre os componentes cliente e servidor.\n",
        "Como o cliente e o servidor protegem esta interface, deve-se ter um “contrato” bem definido para comunicação entre os lados.\n",
        "Há quatro princípios que devem ser seguidos para obter uma interface uniforme: Identificação dos Recursos, Representação dos recursos, Mensagens auto-descritivas e Hipermídia (HATEOAS).\n",
        "\n",
        "Stateless: A comunicação entre cliente-servidor deve ocorrer independente de estado, não cabendo ao servidor armazenar qualquer tipo de contexto, ou seja, cada requisição deve possuir toda informação necessária para que seja completamente compreensível.\n",
        "Este princípio acaba gerando um alto tráfego de dados e redução de desempenho, porém pode ser contrabalanceado utilizando a transferência do recurso de cache.\n",
        "\n",
        "Cache: O cache ajuda a melhorar a performance, a escalabilidade e a eficiência uma vez que reduz o tempo de resposta médio quando comparado entre uma série de cliente-servidor confortável.\n",
        "As diretivas de cache são controladas pelo servidor através do cabeçalho HTTP (cabeçalho HTTP).\n",
        "\n",
        "Camadas: Arquitetura deve ser construída através de camadas gerenciadas de forma independente, onde cada camada não pode ver além da camada adjacente e mudanças de uma camada não devem impactar nos demais.\n",
        "É recomendável que o cliente nunca conecte-se diretamente no servidor de aplicação e que uma camada de balanceamento de carga seja adicionada entre cliente-servidor.\n",
        "A grande vantagem de trabalhar em indivíduos é que a arquitetura se torna menos complexa e fica mais propensa a mudanças.\n",
        "\n",
        "Código sob demanda (opcional) – O REST permite que a funcionalidade do cliente seja puxada por meio do download e da execução de código na forma de applets ou scripts.\n",
        "Isso simplifica os clientes, atendendo o número de recursos necessários para serem pré-implementados."
      ],
      "metadata": {
        "id": "BGWd_kFOJsFh"
      }
    }
  ]
}