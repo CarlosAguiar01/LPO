{
  "nbformat": 4,
  "nbformat_minor": 0,
  "metadata": {
    "colab": {
      "name": "Ide-JS.ipynb",
      "provenance": [],
      "authorship_tag": "ABX9TyOLlwGT4abeWaBNYsjZ+v4B",
      "include_colab_link": true
    },
    "kernelspec": {
      "name": "python3",
      "display_name": "Python 3"
    },
    "language_info": {
      "name": "python"
    }
  },
  "cells": [
    {
      "cell_type": "markdown",
      "metadata": {
        "id": "view-in-github",
        "colab_type": "text"
      },
      "source": [
        "<a href=\"https://colab.research.google.com/github/CarlosAguiar01/LPO/blob/main/Ide_JS.ipynb\" target=\"_parent\"><img src=\"https://colab.research.google.com/assets/colab-badge.svg\" alt=\"Open In Colab\"/></a>"
      ]
    },
    {
      "cell_type": "code",
      "execution_count": null,
      "metadata": {
        "id": "w-C20EGMQSyR"
      },
      "outputs": [],
      "source": [
        ""
      ]
    },
    {
      "cell_type": "markdown",
      "source": [
        "A IDE escolhida foi o Visual Studio Code, por ser uma IDE que possui várias extensões e que não se limita a apenas uma linguagem de programação."
      ],
      "metadata": {
        "id": "idxcGwc3qjb-"
      }
    }
  ]
}