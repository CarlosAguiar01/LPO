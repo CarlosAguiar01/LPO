{
  "nbformat": 4,
  "nbformat_minor": 0,
  "metadata": {
    "colab": {
      "provenance": [],
      "authorship_tag": "ABX9TyNc0QnbwEWYzRCXYVmc7Wj2",
      "include_colab_link": true
    },
    "kernelspec": {
      "name": "python3",
      "display_name": "Python 3"
    },
    "language_info": {
      "name": "python"
    }
  },
  "cells": [
    {
      "cell_type": "markdown",
      "metadata": {
        "id": "view-in-github",
        "colab_type": "text"
      },
      "source": [
        "<a href=\"https://colab.research.google.com/github/CarlosAguiar01/LPO/blob/main/Crud_Operacoes.ipynb\" target=\"_parent\"><img src=\"https://colab.research.google.com/assets/colab-badge.svg\" alt=\"Open In Colab\"/></a>"
      ]
    },
    {
      "cell_type": "code",
      "execution_count": null,
      "metadata": {
        "id": "dZAGNIWqtb1r"
      },
      "outputs": [],
      "source": []
    },
    {
      "cell_type": "markdown",
      "source": [
        "Demonstre como fazer as quatro operações de CRUD e suas rotas para obter o recurso de um livro que está no estoque de uma livraria. Um livro possui informações como nome, autor e ISBN.\n",
        "\n",
        "\n",
        "CRUD é uma sigla/apelido para Create, Read, Update and Delete, em pt-br seria Criar, Ler, Atualizar, Deletar\n",
        "\n",
        "CRIO\n",
        "Quando se quer adicionar algo (uma ou mais linhas) a uma tabela MySQL, utiliza-se o comando INSERT. A sintaxe básica é:\n",
        "INSERT INTO `livraria`(`nomelivro`, `autor`, `isbn`) VALORES (`programador`, `pablo`, `000-0-00-0`);\n",
        "\n",
        "LER\n",
        "Quando se quer ler, puxar, ver, trazer, mostrar alguma informação do banco de dados, em MySQL, utiliza-se o SELECT. A sintaxe básica é:\n",
        "SELECIONE `nomelivro` DE `livraria`;\n",
        "\n",
        "ATUALIZAR\n",
        "Quando se quer atualizar, edite algo (uma ou mais linhas) em uma tabela MySQL, utilize-se o comando UPDATE. A sintaxe básica é:\n",
        "UPDATE `livraria` SET `nomelivro`='pablo romero' WHERE `quantidade`= 1;\n",
        "\n",
        "EXCLUIR\n",
        "Quando se quer deletar, remove, exclui algo (uma ou mais linhas) de uma tabela MySQL, utiliza-se o comando DELETE. A sintaxe básica é:\n",
        "DELETE FROM `livraria`;"
      ],
      "metadata": {
        "id": "2Hfj8wEntdAL"
      }
    }
  ]
}