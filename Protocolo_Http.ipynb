{
  "nbformat": 4,
  "nbformat_minor": 0,
  "metadata": {
    "colab": {
      "provenance": [],
      "authorship_tag": "ABX9TyPrzzXDNq0/BYxwvT8gxQIp",
      "include_colab_link": true
    },
    "kernelspec": {
      "name": "python3",
      "display_name": "Python 3"
    },
    "language_info": {
      "name": "python"
    }
  },
  "cells": [
    {
      "cell_type": "markdown",
      "metadata": {
        "id": "view-in-github",
        "colab_type": "text"
      },
      "source": [
        "<a href=\"https://colab.research.google.com/github/CarlosAguiar01/LPO/blob/main/Protocolo_Http.ipynb\" target=\"_parent\"><img src=\"https://colab.research.google.com/assets/colab-badge.svg\" alt=\"Open In Colab\"/></a>"
      ]
    },
    {
      "cell_type": "code",
      "execution_count": null,
      "metadata": {
        "id": "UImMagsB8pj1"
      },
      "outputs": [],
      "source": []
    },
    {
      "cell_type": "markdown",
      "source": [
        "Faça um projeto explicando como funcionam os métodos HTTP com exemplos de requisições, sua utilização e em qual momento cada um dos métodos devem ser utilizados. \n",
        "Além disso, descreva o que é WSDL, seu significado e sua função.\n",
        "\n",
        "O protocolo web HTTP (Hypertext Transfer Protocol) é a forma mais popular de receber e enviar arquivos e informações.\n",
        "Esse protocolo é utilizado principalmente em softwares e serviços que precisam de dados que não podem ser alocados na aplicação local do usuário,\n",
        "sendo assim necessário armazenar em um servidor, e então, por meio do HTTP, o software cliente irá requisitar e exibir essas informações.\n",
        "\n",
        "Requisição: Na requisição, é onde será feito o envio e/ou a requisição de dados para o servidor.\n",
        "Por exemplo, envie o login e a senha de um usuário e o servidor retornará através da Resposta se aquele usuário é válido ou não.\n",
        "Ou então, outro exemplo BASTANTE recorrente é o streaming de arquivos.\n",
        "\n",
        "PEGUE\n",
        "Esse método é o mais utilizado, tem a função de request ou requisitar algum recurso ao servidor.\n",
        "É geralmente usado para o retorno de informações sobre uma entidade especificamente ou uma lista delas,\n",
        "mas quando se trata de arquivos muito extensos como listas de dados, é preciso ficar atento ao desempenho da API,\n",
        "e usa-se o conceito de Paginação, que é preferir mostrar a informação repartida em páginas, do que mostrá-la completa de uma vez só, ampliando assim a velocidade de tempo de resposta da API.\n",
        "\n",
        "PUBLICAR\n",
        "Método usado para enviar informações ao servidor, é usado de forma mais popular em cadastros de dados retirados de um formulário,\n",
        "e também quando enviamos um arquivo para o servidor: seja isso uma foto de perfil, um post no Instagram, tudo isso é usado o método POST.\n",
        "\n",
        "COLOCAR\n",
        "O PUT é responsável por editar arquivos e informações já existentes. Esse método usa-se juntamente com um parâmetro na URL da requisição,\n",
        "que ajudam a identificar através de uma chave única (id) qual elemento ele está referenciando.\n",
        "\n",
        "EXCLUIR\n",
        "Esse método é bem autoexplicativo, deletar arquivos ou informações presentes no banco de dados. EU\n",
        "gual o PUT, é recomendável que utilize-o usando um parâmetro na URL da requisição, para que evite problemas de deletar dois arquivos/informações ao mesmo tempo.\n",
        "\n",
        "WSDL\n",
        "O WSDL (Web Services Definition Language) é uma linguagem baseada em XML utilizada para descrever WebServices.\n",
        "Trata-se de um documento escrito em XML que, além de descrever o serviço, especifica como acessá-lo e quais as operações ou métodos disponíveis.\n",
        "O WSDL é um arquivo que existe em todo servidor que fornece WebServices.\n",
        "Ele é o “cardápio” que mostra para o aplicativo que está acessando, quais serviços ela pode utilizar, e como ela pode utilizar estes serviços."
      ],
      "metadata": {
        "id": "PYTgKrTJ8qPc"
      }
    }
  ]
}