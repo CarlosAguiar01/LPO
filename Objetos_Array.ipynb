{
  "nbformat": 4,
  "nbformat_minor": 0,
  "metadata": {
    "colab": {
      "provenance": [],
      "authorship_tag": "ABX9TyNJVZGvpSmBeHmFLDzdNdNf",
      "include_colab_link": true
    },
    "kernelspec": {
      "name": "python3",
      "display_name": "Python 3"
    },
    "language_info": {
      "name": "python"
    }
  },
  "cells": [
    {
      "cell_type": "markdown",
      "metadata": {
        "id": "view-in-github",
        "colab_type": "text"
      },
      "source": [
        "<a href=\"https://colab.research.google.com/github/CarlosAguiar01/LPO/blob/main/Objetos_Array.ipynb\" target=\"_parent\"><img src=\"https://colab.research.google.com/assets/colab-badge.svg\" alt=\"Open In Colab\"/></a>"
      ]
    },
    {
      "cell_type": "code",
      "execution_count": null,
      "metadata": {
        "id": "anrzXG1bZi1X"
      },
      "outputs": [],
      "source": [
        "deixe aux enfer = {\n",
        "  cargo: 'auxiliar enfermagem',\n",
        "  nível: 'médio completo',\n",
        "  salário: '$1200,00',\n",
        "  };\n",
        "deixe téc enfer = {\n",
        "  cargo: 'técnico enfermagem',\n",
        "  nível: 'técnico em enfermagem',\n",
        "  salário: '$1500,00',\n",
        "  };\n",
        "deixe enfermeiro = {\n",
        "  cargo: 'enfermeiro',\n",
        "  nível: 'graduação em enfermagem',\n",
        "  salário: '$2000,00',\n",
        "  };\n",
        "console.log('_____________________________________')\n",
        "for(const propriedade em aux enfer){\n",
        "  console.log(`${propriedade}: ${aux enfer[propriedade]}`)\n",
        "}\n",
        "console.log('_____________________________________')\n",
        "for(const propriedade em téc enfer){\n",
        "  console.log(`${propriedade}: ${téc enfer[propriedade]}`)\n",
        "}\n",
        "console.log('_____________________________________')\n",
        "for(const propriedade em enfermeiro){\n",
        "  console.log(`${propriedade}: ${enfermeiro[propriedade]}`)\n",
        "}\n",
        "let funcao= ['aux enfer', 'téc enfer', 'enfermeiro'];\n",
        "\n",
        "console.log('________________')\n",
        "for(const n de funcao) {\n",
        "console.log(n)"
      ]
    },
    {
      "cell_type": "markdown",
      "source": [
        "Desenvolva um código e crie nele:\n",
        "\n",
        "- um objeto com, no mínimo, três propriedades;\n",
        "- um array de tamanho três no mínimo;\n",
        "- duas funções, a primeira lista as propriedades do objeto e a segunda, os elementos do array."
      ],
      "metadata": {
        "id": "qpzWhDlCetY1"
      }
    }
  ]
}