{
  "nbformat": 4,
  "nbformat_minor": 0,
  "metadata": {
    "colab": {
      "provenance": [],
      "authorship_tag": "ABX9TyMF7TtHppiwA/UhLqpZJ2y5",
      "include_colab_link": true
    },
    "kernelspec": {
      "name": "python3",
      "display_name": "Python 3"
    },
    "language_info": {
      "name": "python"
    }
  },
  "cells": [
    {
      "cell_type": "markdown",
      "metadata": {
        "id": "view-in-github",
        "colab_type": "text"
      },
      "source": [
        "<a href=\"https://colab.research.google.com/github/CarlosAguiar01/LPO/blob/main/Untitled5.ipynb\" target=\"_parent\"><img src=\"https://colab.research.google.com/assets/colab-badge.svg\" alt=\"Open In Colab\"/></a>"
      ]
    },
    {
      "cell_type": "code",
      "execution_count": null,
      "metadata": {
        "id": "3pgAAnZaqlMA"
      },
      "outputs": [],
      "source": [
        "CREATE Table clientes (\n",
        "    qtd_cliente INT(20)\n",
        ")\n",
        "\n",
        "CREATE Function soma_clientes(@dt DateTime)\n",
        "RETURNS VARCHAR(50)\n",
        "AS\n",
        "RETURN (Select SUM(qtd_cliente) FROM clientes)"
      ]
    },
    {
      "cell_type": "markdown",
      "source": [],
      "metadata": {
        "id": "b_G2brfWq7cE"
      }
    },
    {
      "cell_type": "markdown",
      "source": [
        "Crie uma função que some todos os clientes cadastrados em uma loja durante um dia."
      ],
      "metadata": {
        "id": "kgxGnNQMq-90"
      }
    }
  ]
}