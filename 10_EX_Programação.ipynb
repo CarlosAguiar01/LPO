{
  "nbformat": 4,
  "nbformat_minor": 0,
  "metadata": {
    "colab": {
      "name": "10_EX_Programação.ipynb",
      "provenance": [],
      "authorship_tag": "ABX9TyM6HYKI27Y5mgXyNJhTkaF2",
      "include_colab_link": true
    },
    "kernelspec": {
      "name": "python3",
      "display_name": "Python 3"
    },
    "language_info": {
      "name": "python"
    }
  },
  "cells": [
    {
      "cell_type": "markdown",
      "metadata": {
        "id": "view-in-github",
        "colab_type": "text"
      },
      "source": [
        "<a href=\"https://colab.research.google.com/github/CarlosAguiar01/LPO/blob/main/10_EX_Programa%C3%A7%C3%A3o.ipynb\" target=\"_parent\"><img src=\"https://colab.research.google.com/assets/colab-badge.svg\" alt=\"Open In Colab\"/></a>"
      ]
    },
    {
      "cell_type": "code",
      "execution_count": null,
      "metadata": {
        "id": "8a7qb30vS8p0"
      },
      "outputs": [],
      "source": [
        "class empresa:\n",
        "   def __init__(self, funcionario, funcao ):\n",
        "      self.funcionário = funcionario\n",
        "      self.funcao = funcao\n",
        "\n",
        "   def registro(self):\n",
        "      n=0\n",
        "      n+=1\n",
        "      print('-'*30,'\\n inscrição do dia:', date.today())\n",
        "      print('colaborador:', self.funcionario, '\\nfunção:', self.funcao, '\\n',n , 'inscrição de presença \\n','*' *30)\n",
        "\n",
        "porteiro = empresa('Gilson Bastos', 'gerente')\n",
        "print(' '*2,'>função de porteiro<')\n",
        "porteiro.inscrição()\n",
        "\n",
        "segurança = empresa('Gilson Bastos', 'gerente')\n",
        "print('>função de segurança<')\n",
        "segurança .inscrição()\n",
        "\n",
        "cozinheiro = empresa('Gilson Bastos', 'gerente')\n",
        "print(' '*3,'>função de cozinheiro<')\n",
        "cozinheiro .inscrição()"
      ]
    },
    {
      "cell_type": "markdown",
      "source": [
        "Crie uma classe de sua preferência com, no mínimo, uma variável, um método e um incremento. Depois, desenvolva três ou mais objetos para testar o código.\n"
      ],
      "metadata": {
        "id": "aAnSyhvJi3ih"
      }
    }
  ]
}