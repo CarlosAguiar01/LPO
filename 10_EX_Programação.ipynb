{
  "nbformat": 4,
  "nbformat_minor": 0,
  "metadata": {
    "colab": {
      "name": "10_EX_Programação.ipynb",
      "provenance": [],
      "authorship_tag": "ABX9TyNizsIEex1tTQD6cVqcNTHB",
      "include_colab_link": true
    },
    "kernelspec": {
      "name": "python3",
      "display_name": "Python 3"
    },
    "language_info": {
      "name": "python"
    }
  },
  "cells": [
    {
      "cell_type": "markdown",
      "metadata": {
        "id": "view-in-github",
        "colab_type": "text"
      },
      "source": [
        "<a href=\"https://colab.research.google.com/github/CarlosAguiar01/LPO/blob/main/10_EX_Programa%C3%A7%C3%A3o.ipynb\" target=\"_parent\"><img src=\"https://colab.research.google.com/assets/colab-badge.svg\" alt=\"Open In Colab\"/></a>"
      ]
    },
    {
      "cell_type": "code",
      "execution_count": null,
      "metadata": {
        "id": "wdnsLdYFkOxT"
      },
      "outputs": [],
      "source": [
        "class Pessoa:\n",
        "\n",
        "  def __init__(self, nome, altura, idade ):\n",
        "    self.nome = nome\n",
        "    self._altura = altura\n",
        "    self.idade = idade\n",
        "\n",
        "  def get_nome(self):\n",
        "    return self.nome\n",
        "\n",
        "  def get_altura(self):\n",
        "    return self.altura\n",
        "\n",
        "  def get_idade(self):\n",
        "    return self._idade\n",
        "\n",
        "  def set_altura(self, true):\n",
        "    if self.altura >= 1:\n",
        "      print(true)\n",
        "\n",
        "  def set_idade(self, v):\n",
        "    self._idade = v\n",
        "\n",
        "\n",
        "pessoa = pessoa('carlos aguiar', '45')\n",
        "pessoa.get_nome()\n",
        "pessoa.get_altura()\n",
        "pessoa.get_idade()"
      ]
    },
    {
      "cell_type": "markdown",
      "source": [
        "Crie uma classe e insira nela, no mínimo, dois atributos, os quais devem ter um método\n",
        " acessor ( get ) e um método modificador ( set ) para cada. Defina um objeto para cada atributo\n",
        " e elabore um construtor para criar alguma regra.\n",
        "\n",
        "A atividade pode ser realizada em qualquer linguagem de programação ou apenas utilizando algoritmos.\n"
      ],
      "metadata": {
        "id": "HPVAnJu7dpbH"
      }
    }
  ]
}