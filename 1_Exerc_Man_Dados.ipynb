{
  "nbformat": 4,
  "nbformat_minor": 0,
  "metadata": {
    "colab": {
      "name": "1_Exerc_Man_Dados.ipynb",
      "provenance": [],
      "authorship_tag": "ABX9TyPNMNsH9meoMACQsNfgCjSt",
      "include_colab_link": true
    },
    "kernelspec": {
      "name": "python3",
      "display_name": "Python 3"
    },
    "language_info": {
      "name": "python"
    }
  },
  "cells": [
    {
      "cell_type": "markdown",
      "metadata": {
        "id": "view-in-github",
        "colab_type": "text"
      },
      "source": [
        "<a href=\"https://colab.research.google.com/github/CarlosAguiar01/LPO/blob/main/1_Exerc_Man_Dados.ipynb\" target=\"_parent\"><img src=\"https://colab.research.google.com/assets/colab-badge.svg\" alt=\"Open In Colab\"/></a>"
      ]
    },
    {
      "cell_type": "code",
      "execution_count": null,
      "metadata": {
        "id": "HbR4UdTvMWmX"
      },
      "outputs": [],
      "source": [
        "Curso Formação Acelerada em Programação – SOFTEX\n",
        "Aluno: Carlos Alberto Monteiro de Aguiar\n",
        "\n",
        "Primeiro Exercício Manipulação de Dados\n",
        "\n",
        "- Acesse pelo menos dois sites de sua preferência e os inspecione com o botão direito do mouse na página web.\n",
        "Com o código fonte aberto você deve: \n",
        "\n",
        "Verificar no código algum elemento que utilize JavaScript; \n",
        "Marcar alguns elementos do site; \n",
        "Explicar como ele se comporta. Exemplo: entrar no site do Google, inspecionar o botão de pesquisa, verificar o código e explicar qual a finalidade do botão. \n",
        "\n",
        "Trabalhe esse código em seu IDE, suba ele para sua conta no GitHub e compartilhe o link desse projeto no campo ao lado para que outros desenvolvedores possam analisá-lo. \n",
        "\n",
        "  JavaScrip será todo o conteúdo sinalizado como <script> </script>\n",
        "\n",
        "\n",
        "No Google, código fonte em cópia, pesquisa que pode utilizar JS para permitir (auto complete) e o\n",
        " carregamento de imagens conforme rolagem. \n",
        "\n",
        "O botão de pesquisa do google permite acessar qualquer tipo de pesquisa com facilidade.\n",
        "\n",
        "<input id=\"input\" type=\"search\" autocomplete=\"off\" spellcheck=\"false\" role=\"combobox\" \n",
        "placeholder=\"Pesquise no Google ou digite um URL\" \n",
        "aria-live=\"polite\">\n",
        "\n",
        "\n",
        "\n",
        "No caso do You Tube todo funcionamento é baseado em JS.\n",
        "\n",
        "JavaScrip será todo o conteúdo sinalizado como <script> </script>\n",
        "\n",
        "O botão de pesquisa do YouTube permite acessar qualquer vídeo disponível no servidor.\n",
        "\n",
        "\n",
        "<input id=\"search\" autocapitalize=\"none\" autocomplete=\"off\" autocorrect=\"off\" name=\"search_query\" tabindex=\"0\" type=\"text\"\n",
        " spellcheck=\"false\" placeholder=\"Pesquisar\" aria-label=\"Pesquisar\" role=\"combobox\" aria-haspopup=\"false\" aria-autocomplete=\"list\" \n",
        " class=\"gsfi ytd-searchbox\" dir=\"ltr\" style=\"border: none; padding: 0px; margin: 0px; height: auto; width: 100%; outline: none;\">\n",
        "\n",
        "\t\tPermite acessar qualquer tipo de assunto com facilidade\n",
        "\n",
        "\n",
        "\n"
      ]
    }
  ]
}