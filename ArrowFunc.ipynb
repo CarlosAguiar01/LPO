{
  "nbformat": 4,
  "nbformat_minor": 0,
  "metadata": {
    "colab": {
      "provenance": [],
      "authorship_tag": "ABX9TyP9xOeGCsNcMwWAuI3pQnCZ",
      "include_colab_link": true
    },
    "kernelspec": {
      "name": "python3",
      "display_name": "Python 3"
    },
    "language_info": {
      "name": "python"
    }
  },
  "cells": [
    {
      "cell_type": "markdown",
      "metadata": {
        "id": "view-in-github",
        "colab_type": "text"
      },
      "source": [
        "<a href=\"https://colab.research.google.com/github/CarlosAguiar01/LPO/blob/main/ArrowFunc.ipynb\" target=\"_parent\"><img src=\"https://colab.research.google.com/assets/colab-badge.svg\" alt=\"Open In Colab\"/></a>"
      ]
    },
    {
      "cell_type": "code",
      "execution_count": null,
      "metadata": {
        "id": "22IN6NGxSV0R"
      },
      "outputs": [],
      "source": [
        "const frase = function BoasVindas(){\n",
        "    return 'Seja bem vindo!'\n",
        "}              \n",
        "const idade = function idade(idade) {\n",
        "    idade = (2022 - idade)\n",
        "    return `A idade é: ${idade}` \n",
        "}\n",
        "const calc =  (num1,num2,op) => `resultado:` + eval(`${num1} ${op} ${num2}`);"
      ]
    }
  ]
}