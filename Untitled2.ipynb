{
  "nbformat": 4,
  "nbformat_minor": 0,
  "metadata": {
    "colab": {
      "provenance": [],
      "authorship_tag": "ABX9TyOAHpG7PFMtEh5jVIQpXIDW",
      "include_colab_link": true
    },
    "kernelspec": {
      "name": "python3",
      "display_name": "Python 3"
    },
    "language_info": {
      "name": "python"
    }
  },
  "cells": [
    {
      "cell_type": "markdown",
      "metadata": {
        "id": "view-in-github",
        "colab_type": "text"
      },
      "source": [
        "<a href=\"https://colab.research.google.com/github/CarlosAguiar01/LPO/blob/main/Untitled2.ipynb\" target=\"_parent\"><img src=\"https://colab.research.google.com/assets/colab-badge.svg\" alt=\"Open In Colab\"/></a>"
      ]
    },
    {
      "cell_type": "code",
      "execution_count": null,
      "metadata": {
        "id": "-q65OSUlu-PQ"
      },
      "outputs": [],
      "source": [
        "const  Sequelize  =  require ( 'sequelize' )\n",
        "const  sequelize  =  new  Sequelize ( 'curso' ,  'root' ,  '123456' ,  {\n",
        "    host : \"localhost\" ,\n",
        "    dialeto : 'mysql'\n",
        "} )\n",
        "\n",
        "sequelar . autenticar ( ) . então ( função ( ) {\n",
        "    consola . log ( 'conexão realizada!' )\n",
        "} ) . pegar ( função ( erro ) {\n",
        "    consola . log ( 'Falha na conexão: ​​' + erro )\n",
        "} )"
      ]
    },
    {
      "cell_type": "markdown",
      "source": [
        "Implemente e trate uma conexão com o seu banco de dados, usando JavaScript. Caso a conexão com o banco tenha sucesso, ele deve retornar uma frase positiva. Se isso não ocorrer, retorne uma frase informando o erro."
      ],
      "metadata": {
        "id": "tJPJekuo1c6-"
      }
    }
  ]
}