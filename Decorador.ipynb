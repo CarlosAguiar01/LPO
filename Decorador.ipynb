{
  "nbformat": 4,
  "nbformat_minor": 0,
  "metadata": {
    "colab": {
      "provenance": [],
      "authorship_tag": "ABX9TyOxGj4hh99nusktm1YOPtR8",
      "include_colab_link": true
    },
    "kernelspec": {
      "name": "python3",
      "display_name": "Python 3"
    },
    "language_info": {
      "name": "python"
    }
  },
  "cells": [
    {
      "cell_type": "markdown",
      "metadata": {
        "id": "view-in-github",
        "colab_type": "text"
      },
      "source": [
        "<a href=\"https://colab.research.google.com/github/CarlosAguiar01/LPO/blob/main/Decorador.ipynb\" target=\"_parent\"><img src=\"https://colab.research.google.com/assets/colab-badge.svg\" alt=\"Open In Colab\"/></a>"
      ]
    },
    {
      "cell_type": "code",
      "execution_count": null,
      "metadata": {
        "id": "kwToEU209Glz"
      },
      "outputs": [],
      "source": [
        "class  frango assado  {\n",
        "    construtor ( )  {\n",
        "        this . nome  =  'sanduíche frango assado'\n",
        "    }\n",
        "    getnome ( )  {\n",
        "        return  'sanduíche frango assado'\n",
        "    }\n",
        "    getvalor ( )  {\n",
        "        return  4,50\n",
        "    }\n",
        "}\n",
        "class  pepperoni  extende  frangoassado  {\n",
        "    construtor ( )  {\n",
        "        super ( ) ;\n",
        "    }\n",
        "    getnome ( )  {\n",
        "        return  super . getnome ( )  +  '+ porção adicional Pepperoni '\n",
        "    }\n",
        "    getvalor ( )  {\n",
        "        return  0,99  +  super . getvalor ( )\n",
        "    }\n",
        "}\n",
        "class  Queijomussarelaralado  extende  frangoassado  {\n",
        "    construtor ( )  {\n",
        "        super ( ) ;\n",
        "    }\n",
        "    getnome ( )  {\n",
        "        retorno  super . getnome ( )  +  '+ porção adicional queijo mussarela ralado'\n",
        "    }\n",
        "    getvalor ( )  {\n",
        "        retorno  2,00  +  super . getvalor ( )\n",
        "    }\n",
        "}\n",
        "\n",
        "let  sandwich  =  new  queijomussarelaralado ( )\n",
        "console . log ( sandwich . getnome ( ) , ':' ,  sandwich . getvalor ( ) )\n"
      ]
    },
    {
      "cell_type": "markdown",
      "source": [],
      "metadata": {
        "id": "x7DPRhCLAJgj"
      }
    },
    {
      "cell_type": "markdown",
      "source": [
        "Aplique o padrão de decorador para criar um projeto de frango assado com calabresa e queijo mussarela ralado. O projeto deve seguir os seguintes critérios:\n",
        "- deve imprimir no console: Sanduíche de Carne, Bacon, QueijoMussarelaRalado custa $7,49.\n",
        "- o sanduíche de frango assado custa $4,50.\n",
        "- o ingrediente adicional calabresa custa $0,99.\n",
        "- o ingrediente adicional queijo mussarela creme ralado $2,00.\n",
        "- chore como classes: FrangoAssado, Pepperoni e QueijoMussarelaRalado."
      ],
      "metadata": {
        "id": "rE85qBO3ANIw"
      }
    }
  ]
}