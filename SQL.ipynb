{
  "nbformat": 4,
  "nbformat_minor": 0,
  "metadata": {
    "colab": {
      "provenance": [],
      "authorship_tag": "ABX9TyNuYqgrZvbRP/ZVe9jILV7z",
      "include_colab_link": true
    },
    "kernelspec": {
      "name": "python3",
      "display_name": "Python 3"
    },
    "language_info": {
      "name": "python"
    }
  },
  "cells": [
    {
      "cell_type": "markdown",
      "metadata": {
        "id": "view-in-github",
        "colab_type": "text"
      },
      "source": [
        "<a href=\"https://colab.research.google.com/github/CarlosAguiar01/LPO/blob/main/SQL.ipynb\" target=\"_parent\"><img src=\"https://colab.research.google.com/assets/colab-badge.svg\" alt=\"Open In Colab\"/></a>"
      ]
    },
    {
      "cell_type": "code",
      "execution_count": null,
      "metadata": {
        "id": "DtbpuULKsHkM"
      },
      "outputs": [],
      "source": []
    },
    {
      "cell_type": "markdown",
      "source": [
        "De acordo com as tabelas, programe um código SQL para gerar a estrutura do banco de dados dessa\n",
        " biblioteca.\n",
        " \n",
        "Siga as instruções:\n",
        "\n",
        "1. incluiu uma coluna DATA_NASCIMENTO na tabela ALUNO do tipo string e de tamanho 10 caracteres;\n",
        "2. altere a coluna TELEFONE para CONTATO e seu tipo de dado para string;\n",
        "3. Incluído o campo ISBN na tabela LIVRO, com tamanho de 13 caracteres do tipo inteiro;\n",
        "4. e remoção do campo ISBN da tabela LIVRO.\n",
        "\n",
        "\n",
        "\n",
        "\n",
        "Insert Into Aluno (Data_Nascimento) Values ( VARCHAR ( 10 ) );\n",
        "\n",
        "Alter Aluno Change Column Telefone Contato Varchar  NOT NULL ;\n",
        "\n",
        "Insert Into LIVRO (ISBN) Values ( INT ( 13 ));\n",
        "\n",
        "Alter Table Livro Drop Column ISBN"
      ],
      "metadata": {
        "id": "HnlronwzsI3-"
      }
    }
  ]
}