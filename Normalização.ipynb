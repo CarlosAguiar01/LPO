{
  "nbformat": 4,
  "nbformat_minor": 0,
  "metadata": {
    "colab": {
      "provenance": [],
      "authorship_tag": "ABX9TyNUELTqVygsZDjhLNdleyIR",
      "include_colab_link": true
    },
    "kernelspec": {
      "name": "python3",
      "display_name": "Python 3"
    },
    "language_info": {
      "name": "python"
    }
  },
  "cells": [
    {
      "cell_type": "markdown",
      "metadata": {
        "id": "view-in-github",
        "colab_type": "text"
      },
      "source": [
        "<a href=\"https://colab.research.google.com/github/CarlosAguiar01/LPO/blob/main/Normaliza%C3%A7%C3%A3o.ipynb\" target=\"_parent\"><img src=\"https://colab.research.google.com/assets/colab-badge.svg\" alt=\"Open In Colab\"/></a>"
      ]
    },
    {
      "cell_type": "code",
      "execution_count": null,
      "metadata": {
        "id": "Pkc3ebVvJBIl"
      },
      "outputs": [],
      "source": []
    },
    {
      "cell_type": "markdown",
      "source": [],
      "metadata": {
        "id": "KLn2M9iMXTgR"
      }
    },
    {
      "cell_type": "markdown",
      "source": [
        "A normalização de dados é um processo realizado dentro das tabelas para evitar anomalias.\n",
        "Com base no e nos links do banco de dados de hipertexto 3, descreva o processo de normalização\n",
        "citando como formas normais de cálculo.\n",
        "\n",
        "1° Forma Normal:todos os atributos de uma tabela devem ser atômicos, ou seja, a tabela não deve conter\n",
        " grupos repetidos e nem atributos com mais de um valor. Para deixar nesta forma normal, é preciso\n",
        " identificar a chave primária da tabela, identificar a(s) coluna(s) que tem(êm) dados repetidos e\n",
        " removê-la(s), criar uma nova tabela com a chave primária para armazenar o dado repetido e, por fim,\n",
        " criar uma relação entre a tabela principal e a tabela secundária.\n",
        "\n",
        "2ª Forma Normal:antes de mais nada, para estar na 2FN é preciso estar na 1FN. Além disso, todos os\n",
        " atributos não chaves da tabela devem depender unicamente da chave primária (não podendo depender\n",
        " apenas de parte dela). Para deixar na segunda forma normal, é preciso identificar as colunas que não\n",
        "  são funcionalmente dependentes da chave primária da tabela e, em seguida, remover essa coluna da\n",
        "   tabela principal e criar uma nova tabela com esses dados.\n",
        "   \n",
        "3ª Forma Normal:para estar na 3FN, é preciso estar na 2FN. Além disso, os atributos não chave de uma\n",
        " tabela devem ser mutuamente independentes e dependentes unicamente e exclusivamente da chave primária\n",
        "  (um atributo B é funcionalmente dependente de A se, e somente se, para cada valor de A só existe um\n",
        "  valor de B). Para atingir essa forma normal, é preciso identificar as colunas que são funcionalmente\n",
        "  pendentes das outras colunas não chave e extraí-las para outra tabela.\n",
        "\n",
        "\n",
        " 4° Forma Normal ou BCNF (Boyce Codd Normal Form):\n",
        "Uma entidade está na quarta forma normal quando ela estiver na terceira forma normal e não existir dependências multivaloradas entre seus atributos,\n",
        "ou seja, campos que se repetem em relação a chave primária, gerando redundância nas tuplas da entidade.\n",
        "Devemos fragmentar essa relação com o objetivo de não termos mais essas dependências funcionais do\n",
        "gênero."
      ],
      "metadata": {
        "id": "jQJK1s1IXdAN"
      }
    }
  ]
}